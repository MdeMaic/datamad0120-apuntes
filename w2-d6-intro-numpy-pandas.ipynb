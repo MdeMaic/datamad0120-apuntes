{
 "cells": [
  {
   "cell_type": "markdown",
   "metadata": {},
   "source": [
    "# Numpy\n",
    "\n",
    "Proyecto de código abierto que se puede encontrar.\n",
    "\n",
    "Se suele encontrar en pypi.org\n",
    "\n",
    "y se instalan con pip3 install numpy\n",
    "\n",
    "FRAMEWORK: Navaja suiza con muchas herramientas\n",
    "LIBRERÍA: Cuchillo. Única función específica. \n",
    "\n",
    "Numpy es una libería para gestionar matrices y vectores. "
   ]
  },
  {
   "cell_type": "code",
   "execution_count": 2,
   "metadata": {},
   "outputs": [],
   "source": [
    "import numpy as np"
   ]
  },
  {
   "cell_type": "code",
   "execution_count": 13,
   "metadata": {},
   "outputs": [
    {
     "data": {
      "text/plain": [
       "array([[0.97, 0.91, 0.3 , 0.37],\n",
       "       [0.4 , 0.76, 0.07, 0.4 ],\n",
       "       [0.35, 0.33, 0.12, 0.78],\n",
       "       [0.05, 0.51, 0.26, 0.53]])"
      ]
     },
     "execution_count": 13,
     "metadata": {},
     "output_type": "execute_result"
    }
   ],
   "source": [
    "np.random.random((4,4)).round(2)"
   ]
  },
  {
   "cell_type": "markdown",
   "metadata": {},
   "source": [
    "https://docs.scipy.org/doc/numpy/reference/"
   ]
  }
 ],
 "metadata": {
  "kernelspec": {
   "display_name": "Python 3",
   "language": "python",
   "name": "python3"
  },
  "language_info": {
   "codemirror_mode": {
    "name": "ipython",
    "version": 3
   },
   "file_extension": ".py",
   "mimetype": "text/x-python",
   "name": "python",
   "nbconvert_exporter": "python",
   "pygments_lexer": "ipython3",
   "version": "3.7.6"
  }
 },
 "nbformat": 4,
 "nbformat_minor": 2
}
