{
 "cells": [
  {
   "cell_type": "markdown",
   "metadata": {},
   "source": [
    "# Numpy\n",
    "\n",
    "Proyecto de código abierto que se puede encontrar.\n",
    "\n",
    "Se suele encontrar en pypi.org\n",
    "\n",
    "y se instalan con pip3 install numpy\n",
    "\n",
    "FRAMEWORK: Navaja suiza con muchas herramientas\n",
    "LIBRERÍA: Cuchillo. Única función específica. \n",
    "\n",
    "Numpy es una libería para gestionar matrices y vectores de n dimensiones con datos numéricos."
   ]
  },
  {
   "cell_type": "code",
   "execution_count": 1,
   "metadata": {},
   "outputs": [],
   "source": [
    "import numpy as np"
   ]
  },
  {
   "cell_type": "code",
   "execution_count": 2,
   "metadata": {},
   "outputs": [
    {
     "data": {
      "text/plain": [
       "array([[0.73, 0.78, 0.06, 0.42],\n",
       "       [0.06, 0.72, 0.29, 0.15],\n",
       "       [0.58, 0.03, 0.03, 0.01],\n",
       "       [0.87, 0.94, 0.63, 0.9 ]])"
      ]
     },
     "execution_count": 2,
     "metadata": {},
     "output_type": "execute_result"
    }
   ],
   "source": [
    "np.random.random((4,4)).round(2)"
   ]
  },
  {
   "cell_type": "markdown",
   "metadata": {},
   "source": [
    "https://docs.scipy.org/doc/numpy/reference/"
   ]
  },
  {
   "cell_type": "markdown",
   "metadata": {},
   "source": [
    "\n",
    "# Pandas\n",
    "\n",
    "Tratamiento de datos bidimensionales: Filas y columnas.\n",
    "\n",
    "SERIE: Como una lista de datos\n",
    "\n",
    "DATAFRAME: Conjunto de series. Se puede imaginar como tabla de datos en el que las filas son series. \n",
    "\n"
   ]
  },
  {
   "cell_type": "code",
   "execution_count": 3,
   "metadata": {},
   "outputs": [],
   "source": [
    "import pandas as pd\n",
    "import numpy as np"
   ]
  },
  {
   "cell_type": "code",
   "execution_count": 4,
   "metadata": {},
   "outputs": [
    {
     "data": {
      "text/html": [
       "<div>\n",
       "<style scoped>\n",
       "    .dataframe tbody tr th:only-of-type {\n",
       "        vertical-align: middle;\n",
       "    }\n",
       "\n",
       "    .dataframe tbody tr th {\n",
       "        vertical-align: top;\n",
       "    }\n",
       "\n",
       "    .dataframe thead th {\n",
       "        text-align: right;\n",
       "    }\n",
       "</style>\n",
       "<table border=\"1\" class=\"dataframe\">\n",
       "  <thead>\n",
       "    <tr style=\"text-align: right;\">\n",
       "      <th></th>\n",
       "      <th>0</th>\n",
       "      <th>1</th>\n",
       "      <th>2</th>\n",
       "    </tr>\n",
       "  </thead>\n",
       "  <tbody>\n",
       "    <tr>\n",
       "      <th>0</th>\n",
       "      <td>0.376555</td>\n",
       "      <td>0.884690</td>\n",
       "      <td>0.032210</td>\n",
       "    </tr>\n",
       "    <tr>\n",
       "      <th>1</th>\n",
       "      <td>0.873478</td>\n",
       "      <td>0.419731</td>\n",
       "      <td>0.321177</td>\n",
       "    </tr>\n",
       "    <tr>\n",
       "      <th>2</th>\n",
       "      <td>0.253891</td>\n",
       "      <td>0.047387</td>\n",
       "      <td>0.801067</td>\n",
       "    </tr>\n",
       "  </tbody>\n",
       "</table>\n",
       "</div>"
      ],
      "text/plain": [
       "          0         1         2\n",
       "0  0.376555  0.884690  0.032210\n",
       "1  0.873478  0.419731  0.321177\n",
       "2  0.253891  0.047387  0.801067"
      ]
     },
     "execution_count": 4,
     "metadata": {},
     "output_type": "execute_result"
    }
   ],
   "source": [
    "pd.DataFrame(np.random.random((3,3)))"
   ]
  },
  {
   "cell_type": "code",
   "execution_count": 5,
   "metadata": {},
   "outputs": [],
   "source": [
    "df = pd.DataFrame(np.random.random((3,3))).round(2)"
   ]
  },
  {
   "cell_type": "code",
   "execution_count": 6,
   "metadata": {},
   "outputs": [
    {
     "data": {
      "text/html": [
       "<div>\n",
       "<style scoped>\n",
       "    .dataframe tbody tr th:only-of-type {\n",
       "        vertical-align: middle;\n",
       "    }\n",
       "\n",
       "    .dataframe tbody tr th {\n",
       "        vertical-align: top;\n",
       "    }\n",
       "\n",
       "    .dataframe thead th {\n",
       "        text-align: right;\n",
       "    }\n",
       "</style>\n",
       "<table border=\"1\" class=\"dataframe\">\n",
       "  <thead>\n",
       "    <tr style=\"text-align: right;\">\n",
       "      <th></th>\n",
       "      <th>0</th>\n",
       "      <th>1</th>\n",
       "      <th>2</th>\n",
       "    </tr>\n",
       "  </thead>\n",
       "  <tbody>\n",
       "    <tr>\n",
       "      <th>0</th>\n",
       "      <td>0.69</td>\n",
       "      <td>0.12</td>\n",
       "      <td>0.52</td>\n",
       "    </tr>\n",
       "    <tr>\n",
       "      <th>1</th>\n",
       "      <td>0.96</td>\n",
       "      <td>0.45</td>\n",
       "      <td>0.68</td>\n",
       "    </tr>\n",
       "    <tr>\n",
       "      <th>2</th>\n",
       "      <td>0.35</td>\n",
       "      <td>0.33</td>\n",
       "      <td>0.10</td>\n",
       "    </tr>\n",
       "  </tbody>\n",
       "</table>\n",
       "</div>"
      ],
      "text/plain": [
       "      0     1     2\n",
       "0  0.69  0.12  0.52\n",
       "1  0.96  0.45  0.68\n",
       "2  0.35  0.33  0.10"
      ]
     },
     "metadata": {},
     "output_type": "display_data"
    }
   ],
   "source": [
    "#display es una función de Jupyter para evitar el print\n",
    "display(df)"
   ]
  },
  {
   "cell_type": "code",
   "execution_count": 7,
   "metadata": {},
   "outputs": [
    {
     "name": "stdout",
     "output_type": "stream",
     "text": [
      "      0     1     2\n",
      "0  0.69  0.12  0.52\n",
      "1  0.96  0.45  0.68\n",
      "2  0.35  0.33  0.10\n"
     ]
    }
   ],
   "source": [
    "print(df)"
   ]
  },
  {
   "cell_type": "code",
   "execution_count": 10,
   "metadata": {},
   "outputs": [],
   "source": [
    "df = pd.DataFrame(np.random.random((3,3)),columns=[\"A\",\"B\",\"C\"])"
   ]
  },
  {
   "cell_type": "code",
   "execution_count": 11,
   "metadata": {},
   "outputs": [
    {
     "name": "stdout",
     "output_type": "stream",
     "text": [
      "<class 'pandas.core.frame.DataFrame'> <class 'pandas.core.series.Series'>\n",
      "0    0.792127\n",
      "1    0.107331\n",
      "2    0.258080\n",
      "Name: A, dtype: float64\n"
     ]
    }
   ],
   "source": [
    "b = df[\"A\"]\n",
    "print(type(df),type(b))\n",
    "print(b)"
   ]
  },
  {
   "cell_type": "markdown",
   "metadata": {},
   "source": [
    "## b es una serie que de lo único que se distingue de un numpy array de 1 dimensión en que tiene indice"
   ]
  },
  {
   "cell_type": "markdown",
   "metadata": {},
   "source": [
    "documentación de pandas: https://pandas.pydata.org/pandas-docs/stable/\n",
    "\n",
    "Para sacar info de un csv es importante no utilizar rutas absolutas. Sólo rutas relativas a la carpeta donde se tiene el Jupyter Notebook. \n",
    "\n",
    "Cuandos se concatena los indices se guardan del DataFrame original. \n",
    "\n",
    "## Loc selecciona los del índice original e iloc selecciona los del indice del concatenado"
   ]
  },
  {
   "cell_type": "markdown",
   "metadata": {},
   "source": [
    "Para hacer los filtros tenemos que obtener valores true dentro de una serie. Usando operadores & y | como and y or. \n",
    "\n",
    "Para hacer recuentos df[\"Type 1\"].value_counts() agrupa y suma por categorías.\n",
    "\n",
    "# df.describe() te da toda la información estadística de un DataFrame. \n",
    "\n",
    "df.min()\n",
    "\n",
    "df.Attack.hist() Eje horizontal = Valores. Eje vertical = Repeticiones. "
   ]
  }
 ],
 "metadata": {
  "kernelspec": {
   "display_name": "Python 3",
   "language": "python",
   "name": "python3"
  },
  "language_info": {
   "codemirror_mode": {
    "name": "ipython",
    "version": 3
   },
   "file_extension": ".py",
   "mimetype": "text/x-python",
   "name": "python",
   "nbconvert_exporter": "python",
   "pygments_lexer": "ipython3",
   "version": "3.7.6"
  }
 },
 "nbformat": 4,
 "nbformat_minor": 2
}
