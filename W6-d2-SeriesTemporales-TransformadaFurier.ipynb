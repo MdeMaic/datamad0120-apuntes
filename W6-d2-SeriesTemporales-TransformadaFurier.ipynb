{
 "cells": [
  {
   "cell_type": "code",
   "execution_count": 1,
   "metadata": {},
   "outputs": [],
   "source": [
    "import numpy as np\n",
    "import pandas as pd\n",
    "import matplotlib.pyplot as plt"
   ]
  },
  {
   "cell_type": "markdown",
   "metadata": {},
   "source": [
    "### Transformada de Furier\n",
    "\n",
    "Está representada con números complejos. Lo que hacemos es transformarlo a módulo y fase para poder representarlo.\n",
    "En la representación se muestran valores absolutos, pero en realidad uno es positivo y otro negativo.\n",
    "\n",
    "La suma de los senos nos muestra ls frecuencias máximas\n",
    "\n",
    "Cualquier serie temporal se puede transformar en suma de senos y cosenos.\n",
    "\n",
    "SIRVE PARA RECONOCER PATRONES, ELIMINAR RUIDO...\n",
    "\n",
    "    - A la drecha    --> Oscila con una frecuencia muy alta\n",
    "    - A la izquierda --> Oscila con una frecuencia muy baja\n",
    "\n",
    "##### Criterio de Nyquist\n",
    "Fm = frecuencia de representación\n",
    "F = Frecuencia de oscilación del seno.\n",
    "\n",
    "Fm debe ser al menos el doblde de F para poder representar correctamente la visualización "
   ]
  },
  {
   "cell_type": "code",
   "execution_count": null,
   "metadata": {},
   "outputs": [],
   "source": [
    "from scipy.fftpack import fft\n",
    "mod = np.abs(fft(Y))"
   ]
  },
  {
   "cell_type": "code",
   "execution_count": 5,
   "metadata": {},
   "outputs": [],
   "source": [
    "from scipy import signal\n",
    "#b,a = signal.butter(ORDEN (2,3,4),FRECUENCIA)\n",
    "b,a = signal.butter(3,1/1000)"
   ]
  },
  {
   "cell_type": "markdown",
   "metadata": {},
   "source": [
    "## MODELO AR\n",
    "\n",
    "#Entrena el modelo AR\n",
    "---\n",
    "model = AR(train)\n",
    "\n",
    "model_fit = model.fit(maxlag=2)\n",
    "\n",
    "#Predice valores\n",
    "---\n",
    "predictions[col] = model_fit.predict(start=len(train),\n",
    "                    end=len(train)+len(test)-1,dynamic=False)"
   ]
  },
  {
   "cell_type": "markdown",
   "metadata": {},
   "source": [
    "# MEAN SQUARE ERROR. \n",
    "## Suma de la diferencia al cuadrado de la predicción menos la realidad"
   ]
  },
  {
   "cell_type": "markdown",
   "metadata": {},
   "source": [
    "###### La convolución en la transformada de Furier es una multiplicación...\n",
    "https://giphy.com/gifs/oil-decline-convolution-CNgNBnSAobcBO/fullscreen\n",
    "\n",
    "<img src=\"https://media.giphy.com/media/CNgNBnSAobcBO/giphy.gif\"/>"
   ]
  },
  {
   "cell_type": "markdown",
   "metadata": {},
   "source": [
    "Para el modelo ARMA. Sólo hay que modificar el modelo a entrenar."
   ]
  },
  {
   "cell_type": "markdown",
   "metadata": {},
   "source": [
    "CAPACIDAD PREDICTIVA depende de:\n",
    "    - MODELO de MACHINE LEARNING\n",
    "    - DATOS QUE SE ESTÁN TRATANDO."
   ]
  },
  {
   "cell_type": "markdown",
   "metadata": {},
   "source": [
    "# BONUS! LIMPIAR LOS DATOS CON FILTRO PASO BAJO..."
   ]
  },
  {
   "cell_type": "code",
   "execution_count": null,
   "metadata": {},
   "outputs": [],
   "source": []
  }
 ],
 "metadata": {
  "kernelspec": {
   "display_name": "Python 3",
   "language": "python",
   "name": "python3"
  },
  "language_info": {
   "codemirror_mode": {
    "name": "ipython",
    "version": 3
   },
   "file_extension": ".py",
   "mimetype": "text/x-python",
   "name": "python",
   "nbconvert_exporter": "python",
   "pygments_lexer": "ipython3",
   "version": "3.7.6"
  }
 },
 "nbformat": 4,
 "nbformat_minor": 2
}
