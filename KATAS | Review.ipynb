{
 "cells": [
  {
   "cell_type": "markdown",
   "metadata": {},
   "source": [
    "# Revisión de Katas de Clase"
   ]
  },
  {
   "cell_type": "markdown",
   "metadata": {},
   "source": [
    "## Kata 1: If you can't sleep, just count sheep!! \n",
    "\n",
    "https://www.codewars.com/kata/5b077ebdaf15be5c7f000077/train/python\n",
    "\n",
    "'1 sheep...2 sheep...3 sheep...4 sheep...5 sheep...'"
   ]
  },
  {
   "cell_type": "code",
   "execution_count": 11,
   "metadata": {},
   "outputs": [],
   "source": [
    "#My Solution\n",
    "def count_sheep(n):\n",
    "    count = \"\"\n",
    "    for i in range(n):\n",
    "         count += str(i+1)+\" sheep...\"\n",
    "    return count"
   ]
  },
  {
   "cell_type": "code",
   "execution_count": 12,
   "metadata": {},
   "outputs": [],
   "source": [
    "#Better Solution\n",
    "def count_sheep(n):\n",
    "    return ''.join(f\"{i} sheep...\" for i in range(1,n+1))"
   ]
  },
  {
   "cell_type": "code",
   "execution_count": 13,
   "metadata": {},
   "outputs": [],
   "source": [
    "#Best Solution\n",
    "def count_sheep(n):\n",
    "    return \"\".join(\"{} sheep...\".format(i) for i in range(1, n+1))"
   ]
  },
  {
   "cell_type": "markdown",
   "metadata": {},
   "source": [
    "Funciones interesantes: .join() , count , .format() , split()"
   ]
  },
  {
   "cell_type": "markdown",
   "metadata": {},
   "source": [
    "## Kata 2: Sum Mixed Array\n",
    " \n",
    " https://www.codewars.com/kata/sum-mixed-array/train/pythonSuma \n",
    " \n",
    " Suma de valores en una lista guardados como arrays y integres"
   ]
  },
  {
   "cell_type": "code",
   "execution_count": 14,
   "metadata": {},
   "outputs": [],
   "source": [
    "#My\n",
    "def sum_mix(arr):\n",
    "    sum = 0\n",
    "    for i in arr:\n",
    "        sum+=int(i)\n",
    "    return(sum)"
   ]
  },
  {
   "cell_type": "code",
   "execution_count": 15,
   "metadata": {},
   "outputs": [],
   "source": [
    "#Better\n",
    "def sum_mix(arr):\n",
    "    return sum(int(n) for n in arr)"
   ]
  },
  {
   "cell_type": "code",
   "execution_count": 16,
   "metadata": {},
   "outputs": [],
   "source": [
    "#Best\n",
    "def sum_mix(arr):\n",
    "    return sum(map(int, arr))"
   ]
  },
  {
   "cell_type": "markdown",
   "metadata": {},
   "source": [
    "Funciones interesantes: sum(), map(int, arr), Lambda x: int(x)"
   ]
  },
  {
   "cell_type": "markdown",
   "metadata": {},
   "source": [
    "## Kata 3: Keep Hydrated\n",
    " \n",
    "https://www.codewars.com/kata/keep-hydrated-1/train/python\n",
    " \n",
    "Because Nathan knows it is important to stay hydrated, he drinks 0.5 litres of water per hour of cycling.\n",
    "You get given the time in hours and you need to return the number of litres Nathan will drink, rounded to the smallest value.\n",
    "time = 3 ----> litres = 1\n",
    "time = 6.7---> litres = 3\n",
    "time = 11.8--> litres = 5"
   ]
  },
  {
   "cell_type": "code",
   "execution_count": 17,
   "metadata": {},
   "outputs": [],
   "source": [
    "#My\n",
    "import math\n",
    "def litres(time):\n",
    "    return math.floor(int(time) / 2)"
   ]
  },
  {
   "cell_type": "code",
   "execution_count": 18,
   "metadata": {},
   "outputs": [],
   "source": [
    "#Better\n",
    "def litres(time):\n",
    "    return int(time/2)"
   ]
  },
  {
   "cell_type": "code",
   "execution_count": 19,
   "metadata": {},
   "outputs": [],
   "source": [
    "#Best\n",
    "def litres(time):\n",
    "    return time // 2"
   ]
  },
  {
   "cell_type": "markdown",
   "metadata": {},
   "source": [
    "## Kata Voluntaria\n",
    "\n",
    "ARREGLAR EL CÓDIGO para que devuelva la palabra de mayor longitud:"
   ]
  },
  {
   "cell_type": "markdown",
   "metadata": {},
   "source": [
    "#Código roto\n",
    "def find_longest(string):\n",
    "    spl = str.split(\" \")\n",
    "    longest = 0\n",
    "    i=0\n",
    "    while (i > spl.length):\n",
    "    if (spl(i).length > longest): longest = spl[i].length\n",
    "    return longest"
   ]
  },
  {
   "cell_type": "code",
   "execution_count": 21,
   "metadata": {},
   "outputs": [],
   "source": [
    "#My\n",
    "def find_longest(string):\n",
    "    spl = string.split()\n",
    "    longest = 0\n",
    "    for i in spl:\n",
    "        if len(i) > longest:\n",
    "            longest = len(i)\n",
    "    return longest"
   ]
  },
  {
   "cell_type": "code",
   "execution_count": 22,
   "metadata": {},
   "outputs": [],
   "source": [
    "#Best\n",
    "def find_longest(strng):\n",
    "    return max(len(a) for a in strng.split())"
   ]
  },
  {
   "cell_type": "markdown",
   "metadata": {},
   "source": [
    "## Kata 4: Eternal five\n",
    "\n",
    "Eternal 5 Devolver un 5 sin que se escriba ninguna cifra."
   ]
  },
  {
   "cell_type": "code",
   "execution_count": 23,
   "metadata": {},
   "outputs": [],
   "source": [
    "def eternal_five():\n",
    "    return len(\"cinco\")"
   ]
  },
  {
   "cell_type": "code",
   "execution_count": 27,
   "metadata": {},
   "outputs": [
    {
     "data": {
      "text/plain": [
       "6"
      ]
     },
     "execution_count": 27,
     "metadata": {},
     "output_type": "execute_result"
    }
   ],
   "source": [
    "eternal_five() +1"
   ]
  },
  {
   "cell_type": "markdown",
   "metadata": {},
   "source": [
    "## Kata 5: Test's results\n",
    "\n",
    "It's important day today: the class has just had a math test. You will be given a list of marks. Complete the function that will:\n",
    "\n",
    "Calculate the average mark of the whole class and round it to 3 decimal places.\n",
    "Make a dictionary/hash with keys \"h\", \"a\", \"l\" to make clear how many high, average and low marks they got. High marks are 9 & 10, average marks are 7 & 8, and low marks are 1 to 6.\n",
    "Return list [class_average, dictionary] if there are different type of marks, or [class_average, dictionary, \"They did well\"] if there are only high marks.\n",
    "\n",
    "[10, 9, 9, 10, 9, 10, 9] ==> [9.429, {'h': 7, 'a': 0, 'l': 0}, 'They did well']\n",
    "\n",
    "[5, 6, 4, 8, 9, 8, 9, 10, 10, 10] ==> [7.9, {'h': 5, 'a': 2, 'l': 3}]\n",
    "\n",
    "https://www.codewars.com/kata/599db0a227ca9f294b0000c8/train/python"
   ]
  },
  {
   "cell_type": "code",
   "execution_count": 28,
   "metadata": {},
   "outputs": [],
   "source": [
    "#My\n",
    "def test(r):\n",
    "    \n",
    "    class_average = round(sum(r)/float(len(r)),3)\n",
    "    print(class_average)\n",
    "    \n",
    "    count_h = 0\n",
    "    count_a = 0 \n",
    "    count_l = 0 \n",
    "    \n",
    "    for i in r:\n",
    "        if i >= 9:\n",
    "            count_h += 1\n",
    "        elif i < 9 and i > 6:\n",
    "            count_a += 1\n",
    "        else:\n",
    "            count_l += 1\n",
    "            \n",
    "    keys = [\"h\",\"a\",\"l\"]\n",
    "    values = [count_h,count_a,count_l]\n",
    "    \n",
    "    dictionary = dict(zip(keys,values))\n",
    "    \n",
    "    if count_h != 0 and count_a == 0 and count_l == 0:\n",
    "        list=[class_average,dictionary,\"They did well\"]\n",
    "    else:\n",
    "        list=[class_average,dictionary]\n",
    "        \n",
    "    return list"
   ]
  },
  {
   "cell_type": "code",
   "execution_count": 40,
   "metadata": {},
   "outputs": [
    {
     "data": {
      "text/plain": [
       "[7.714, {'h': 3, 'a': 2, 'l': 2}]"
      ]
     },
     "execution_count": 40,
     "metadata": {},
     "output_type": "execute_result"
    }
   ],
   "source": [
    "#Better\n",
    "import statistics\n",
    "\n",
    "def test(r):\n",
    "    list = []\n",
    "    list.append(round(statistics.mean(r),3))\n",
    "    \n",
    "    dict = {\"h\":0,\"a\":0,\"l\":0}\n",
    "    for e in r:\n",
    "        if e >= 9:\n",
    "            dict[\"h\"] += 1\n",
    "        elif e in [7,8]:\n",
    "            dict[\"a\"] += 1\n",
    "        else:\n",
    "            dict[\"l\"] += 1\n",
    "    list.append(dict)\n",
    "    \n",
    "    if float(round(statistics.mean(r),3)) >= float(9):\n",
    "        list.append(\"They did well\")\n",
    "        return list\n",
    "    \n",
    "    return list\n",
    "\n",
    "test([5,6,9,9,8,9,8])"
   ]
  },
  {
   "cell_type": "code",
   "execution_count": 31,
   "metadata": {},
   "outputs": [
    {
     "name": "stdout",
     "output_type": "stream",
     "text": [
      "{'l': 2, 'a': 5, 'h': 3}\n"
     ]
    }
   ],
   "source": [
    "#Best\n",
    "def test(r):\n",
    "    dct = {'l': 0, 'a': 0, 'h': 0}\n",
    "    for n in r: dct[ 'lah'[(n>6) + (n>8)] ] += 1\n",
    "    return [round(mean(r), 3), dct] + ['They did well'] * (sum(dct.values()) == dct['h'])\n",
    "\n",
    "#Explicación\n",
    "r=[7,8,7,8,6,9,8,9,10,6]\n",
    "\n",
    "dct = {'l': 0, 'a': 0, 'h': 0}\n",
    "for n in r: \n",
    "    dct['lah'[(n>6) + (n>8)]] += 1\n",
    "\n",
    "#Aquí está evaluando si se cumplen las condiciones y guarda el valor en dct[i] siendo i --> \"l\",\"a\",\"h\" \n",
    "#en función de si es 0,1 ó 2 el resultado de (n>6) + (n>8). dado de que \"lah\"[2]=h y dct[h]= el valor de h \n",
    "#en el diccionario.\n",
    "\n",
    "print(dct)"
   ]
  },
  {
   "cell_type": "markdown",
   "metadata": {},
   "source": [
    "# Kata 5: Bank\n",
    "\n",
    "https://www.codewars.com/kata/user-class-for-banking-system/train/python\n",
    "\n"
   ]
  },
  {
   "cell_type": "code",
   "execution_count": null,
   "metadata": {},
   "outputs": [],
   "source": [
    "class User(object):\n",
    "    def __init__(self, name, balance, checking_account):\n",
    "        self.name = name\n",
    "        self.balance = balance\n",
    "        self.checking_account = checking_account\n",
    "    #Happy coding\n",
    "    \n",
    "    def withdraw (self, money):\n",
    "        if self.balance >= money:\n",
    "            self.balance -= money\n",
    "        else:\n",
    "            raise ValueError ('There is not enough money to withdraw')\n",
    "        return str(self.name) + ' has ' + str(self.balance) + '.'\n",
    "    \n",
    "    def check (self, other_user, money):\n",
    "        if other_user.checking_account == True:\n",
    "            if other_user.balance > money:\n",
    "                other_user.balance -= money\n",
    "                self.balance += money\n",
    "            else:\n",
    "                raise ValueError (str(other_user) + \" no tiene dinero suficiente\")\n",
    "        else:\n",
    "            raise ValueError (\"Error en la comprobación de cuenta\")\n",
    "        return str(self.name) + ' has ' + str(self.balance) + ' and ' + str(other_user.name) + ' has ' + str(other_user.balance) + '.'\n",
    "        \n",
    "    def add_cash (self, money):\n",
    "        self.balance += money\n",
    "        return str(self.name)+\" has \"+str(self.balance)+\".\""
   ]
  }
 ],
 "metadata": {
  "kernelspec": {
   "display_name": "Python 3",
   "language": "python",
   "name": "python3"
  },
  "language_info": {
   "codemirror_mode": {
    "name": "ipython",
    "version": 3
   },
   "file_extension": ".py",
   "mimetype": "text/x-python",
   "name": "python",
   "nbconvert_exporter": "python",
   "pygments_lexer": "ipython3",
   "version": "3.7.6"
  }
 },
 "nbformat": 4,
 "nbformat_minor": 2
}
