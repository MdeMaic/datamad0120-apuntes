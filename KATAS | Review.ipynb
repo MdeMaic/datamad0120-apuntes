{
 "cells": [
  {
   "cell_type": "markdown",
   "metadata": {},
   "source": [
    "# Revisión de Katas de Clase"
   ]
  },
  {
   "cell_type": "markdown",
   "metadata": {},
   "source": [
    "## Kata 1: If you can't sleep, just count sheep!! \n",
    "\n",
    "https://www.codewars.com/kata/5b077ebdaf15be5c7f000077/train/python\n",
    "\n",
    "'1 sheep...2 sheep...3 sheep...4 sheep...5 sheep...'"
   ]
  },
  {
   "cell_type": "code",
   "execution_count": 1,
   "metadata": {},
   "outputs": [],
   "source": [
    "#My Solution\n",
    "def count_sheep(n):\n",
    "    count = \"\"\n",
    "    for i in range(n):\n",
    "         count += str(i+1)+\" sheep...\"\n",
    "    return count"
   ]
  },
  {
   "cell_type": "code",
   "execution_count": 2,
   "metadata": {},
   "outputs": [],
   "source": [
    "#Better Solution\n",
    "def count_sheep(n):\n",
    "    return ''.join(f\"{i} sheep...\" for i in range(1,n+1))"
   ]
  },
  {
   "cell_type": "code",
   "execution_count": 3,
   "metadata": {},
   "outputs": [],
   "source": [
    "#Best Solution\n",
    "def count_sheep(n):\n",
    "    return \"\".join(\"{} sheep...\".format(i) for i in range(1, n+1))"
   ]
  },
  {
   "cell_type": "markdown",
   "metadata": {},
   "source": [
    "Funciones interesantes: .join() , count , .format() , split()"
   ]
  },
  {
   "cell_type": "markdown",
   "metadata": {},
   "source": [
    "## Kata 2: Sum Mixed Array\n",
    " \n",
    " https://www.codewars.com/kata/sum-mixed-array/train/pythonSuma \n",
    " \n",
    " Suma de valores en una lista guardados como arrays y integres"
   ]
  },
  {
   "cell_type": "code",
   "execution_count": 4,
   "metadata": {},
   "outputs": [],
   "source": [
    "#My\n",
    "def sum_mix(arr):\n",
    "    sum = 0\n",
    "    for i in arr:\n",
    "        sum+=int(i)\n",
    "    return(sum)"
   ]
  },
  {
   "cell_type": "code",
   "execution_count": 5,
   "metadata": {},
   "outputs": [],
   "source": [
    "#Better\n",
    "def sum_mix(arr):\n",
    "    return sum(int(n) for n in arr)"
   ]
  },
  {
   "cell_type": "code",
   "execution_count": 6,
   "metadata": {},
   "outputs": [],
   "source": [
    "#Best\n",
    "def sum_mix(arr):\n",
    "    return sum(map(int, arr))"
   ]
  },
  {
   "cell_type": "markdown",
   "metadata": {},
   "source": [
    "Funciones interesantes: sum(), map(int, arr), Lambda x: int(x)"
   ]
  },
  {
   "cell_type": "markdown",
   "metadata": {},
   "source": [
    "## Kata 3: Keep Hydrated\n",
    " \n",
    "https://www.codewars.com/kata/keep-hydrated-1/train/python\n",
    " \n",
    "Because Nathan knows it is important to stay hydrated, he drinks 0.5 litres of water per hour of cycling.\n",
    "You get given the time in hours and you need to return the number of litres Nathan will drink, rounded to the smallest value.\n",
    "time = 3 ----> litres = 1\n",
    "time = 6.7---> litres = 3\n",
    "time = 11.8--> litres = 5"
   ]
  },
  {
   "cell_type": "code",
   "execution_count": 7,
   "metadata": {},
   "outputs": [],
   "source": [
    "#My\n",
    "import math\n",
    "def litres(time):\n",
    "    return math.floor(int(time) / 2)"
   ]
  },
  {
   "cell_type": "code",
   "execution_count": 8,
   "metadata": {},
   "outputs": [],
   "source": [
    "#Better\n",
    "def litres(time):\n",
    "    return int(time/2)"
   ]
  },
  {
   "cell_type": "code",
   "execution_count": 9,
   "metadata": {},
   "outputs": [],
   "source": [
    "#Best\n",
    "def litres(time):\n",
    "    return time // 2"
   ]
  },
  {
   "cell_type": "markdown",
   "metadata": {},
   "source": [
    "## Kata Voluntaria\n",
    "\n",
    "ARREGLAR EL CÓDIGO para que devuelva la palabra de mayor longitud:"
   ]
  },
  {
   "cell_type": "markdown",
   "metadata": {},
   "source": [
    "#Código roto\n",
    "def find_longest(string):\n",
    "    spl = str.split(\" \")\n",
    "    longest = 0\n",
    "    i=0\n",
    "    while (i > spl.length):\n",
    "    if (spl(i).length > longest): longest = spl[i].length\n",
    "    return longest"
   ]
  },
  {
   "cell_type": "code",
   "execution_count": 10,
   "metadata": {},
   "outputs": [],
   "source": [
    "#My\n",
    "def find_longest(string):\n",
    "    spl = string.split()\n",
    "    longest = 0\n",
    "    for i in spl:\n",
    "        if len(i) > longest:\n",
    "            longest = len(i)\n",
    "    return longest"
   ]
  },
  {
   "cell_type": "code",
   "execution_count": 11,
   "metadata": {},
   "outputs": [],
   "source": [
    "#Best\n",
    "def find_longest(strng):\n",
    "    return max(len(a) for a in strng.split())"
   ]
  },
  {
   "cell_type": "markdown",
   "metadata": {},
   "source": [
    "## Kata 4: Eternal five\n",
    "\n",
    "Eternal 5 Devolver un 5 sin que se escriba ninguna cifra."
   ]
  },
  {
   "cell_type": "code",
   "execution_count": 12,
   "metadata": {},
   "outputs": [],
   "source": [
    "def eternal_five():\n",
    "    return len(\"cinco\")"
   ]
  },
  {
   "cell_type": "code",
   "execution_count": 13,
   "metadata": {},
   "outputs": [
    {
     "data": {
      "text/plain": [
       "6"
      ]
     },
     "execution_count": 13,
     "metadata": {},
     "output_type": "execute_result"
    }
   ],
   "source": [
    "eternal_five() +1"
   ]
  },
  {
   "cell_type": "markdown",
   "metadata": {},
   "source": [
    "## Kata 5: Test's results\n",
    "\n",
    "It's important day today: the class has just had a math test. You will be given a list of marks. Complete the function that will:\n",
    "\n",
    "Calculate the average mark of the whole class and round it to 3 decimal places.\n",
    "Make a dictionary/hash with keys \"h\", \"a\", \"l\" to make clear how many high, average and low marks they got. High marks are 9 & 10, average marks are 7 & 8, and low marks are 1 to 6.\n",
    "Return list [class_average, dictionary] if there are different type of marks, or [class_average, dictionary, \"They did well\"] if there are only high marks.\n",
    "\n",
    "[10, 9, 9, 10, 9, 10, 9] ==> [9.429, {'h': 7, 'a': 0, 'l': 0}, 'They did well']\n",
    "\n",
    "[5, 6, 4, 8, 9, 8, 9, 10, 10, 10] ==> [7.9, {'h': 5, 'a': 2, 'l': 3}]\n",
    "\n",
    "https://www.codewars.com/kata/599db0a227ca9f294b0000c8/train/python"
   ]
  },
  {
   "cell_type": "code",
   "execution_count": 14,
   "metadata": {},
   "outputs": [],
   "source": [
    "#My\n",
    "def test(r):\n",
    "    \n",
    "    class_average = round(sum(r)/float(len(r)),3)\n",
    "    print(class_average)\n",
    "    \n",
    "    count_h = 0\n",
    "    count_a = 0 \n",
    "    count_l = 0 \n",
    "    \n",
    "    for i in r:\n",
    "        if i >= 9:\n",
    "            count_h += 1\n",
    "        elif i < 9 and i > 6:\n",
    "            count_a += 1\n",
    "        else:\n",
    "            count_l += 1\n",
    "            \n",
    "    keys = [\"h\",\"a\",\"l\"]\n",
    "    values = [count_h,count_a,count_l]\n",
    "    \n",
    "    dictionary = dict(zip(keys,values))\n",
    "    \n",
    "    if count_h != 0 and count_a == 0 and count_l == 0:\n",
    "        list=[class_average,dictionary,\"They did well\"]\n",
    "    else:\n",
    "        list=[class_average,dictionary]\n",
    "        \n",
    "    return list"
   ]
  },
  {
   "cell_type": "code",
   "execution_count": 15,
   "metadata": {},
   "outputs": [
    {
     "data": {
      "text/plain": [
       "[7.714, {'h': 3, 'a': 2, 'l': 2}]"
      ]
     },
     "execution_count": 15,
     "metadata": {},
     "output_type": "execute_result"
    }
   ],
   "source": [
    "#Better\n",
    "import statistics\n",
    "\n",
    "def test(r):\n",
    "    list = []\n",
    "    list.append(round(statistics.mean(r),3))\n",
    "    \n",
    "    dict = {\"h\":0,\"a\":0,\"l\":0}\n",
    "    for e in r:\n",
    "        if e >= 9:\n",
    "            dict[\"h\"] += 1\n",
    "        elif e in [7,8]:\n",
    "            dict[\"a\"] += 1\n",
    "        else:\n",
    "            dict[\"l\"] += 1\n",
    "    list.append(dict)\n",
    "    \n",
    "    if float(round(statistics.mean(r),3)) >= float(9):\n",
    "        list.append(\"They did well\")\n",
    "        return list\n",
    "    \n",
    "    return list\n",
    "\n",
    "test([5,6,9,9,8,9,8])"
   ]
  },
  {
   "cell_type": "code",
   "execution_count": 16,
   "metadata": {},
   "outputs": [
    {
     "name": "stdout",
     "output_type": "stream",
     "text": [
      "{'l': 2, 'a': 5, 'h': 3}\n"
     ]
    }
   ],
   "source": [
    "#Best\n",
    "def test(r):\n",
    "    dct = {'l': 0, 'a': 0, 'h': 0}\n",
    "    for n in r: dct[ 'lah'[(n>6) + (n>8)] ] += 1\n",
    "    return [round(mean(r), 3), dct] + ['They did well'] * (sum(dct.values()) == dct['h'])\n",
    "\n",
    "#Explicación\n",
    "r=[7,8,7,8,6,9,8,9,10,6]\n",
    "\n",
    "dct = {'l': 0, 'a': 0, 'h': 0}\n",
    "for n in r: \n",
    "    dct['lah'[(n>6) + (n>8)]] += 1\n",
    "\n",
    "#Aquí está evaluando si se cumplen las condiciones y guarda el valor en dct[i] siendo i --> \"l\",\"a\",\"h\" \n",
    "#en función de si es 0,1 ó 2 el resultado de (n>6) + (n>8). dado de que \"lah\"[2]=h y dct[h]= el valor de h \n",
    "#en el diccionario.\n",
    "\n",
    "print(dct)"
   ]
  },
  {
   "cell_type": "markdown",
   "metadata": {},
   "source": [
    "# Kata 5: Bank\n",
    "\n",
    "https://www.codewars.com/kata/user-class-for-banking-system/train/python\n",
    "\n"
   ]
  },
  {
   "cell_type": "code",
   "execution_count": 17,
   "metadata": {},
   "outputs": [],
   "source": [
    "class User(object):\n",
    "    def __init__(self, name, balance, checking_account):\n",
    "        self.name = name\n",
    "        self.balance = balance\n",
    "        self.checking_account = checking_account\n",
    "    #Happy coding\n",
    "    \n",
    "    def withdraw (self, money):\n",
    "        if self.balance >= money:\n",
    "            self.balance -= money\n",
    "        else:\n",
    "            raise ValueError ('There is not enough money to withdraw')\n",
    "        return str(self.name) + ' has ' + str(self.balance) + '.'\n",
    "    \n",
    "    def check (self, other_user, money):\n",
    "        if other_user.checking_account == True:\n",
    "            if other_user.balance > money:\n",
    "                other_user.balance -= money\n",
    "                self.balance += money\n",
    "            else:\n",
    "                raise ValueError (str(other_user) + \" no tiene dinero suficiente\")\n",
    "        else:\n",
    "            raise ValueError (\"Error en la comprobación de cuenta\")\n",
    "        return str(self.name) + ' has ' + str(self.balance) + ' and ' + str(other_user.name) + ' has ' + str(other_user.balance) + '.'\n",
    "        \n",
    "    def add_cash (self, money):\n",
    "        self.balance += money\n",
    "        return str(self.name)+\" has \"+str(self.balance)+\".\""
   ]
  },
  {
   "cell_type": "code",
   "execution_count": null,
   "metadata": {},
   "outputs": [],
   "source": [
    "def evaporator(content, evap_per_day, threshold):\n",
    "    \n",
    "    days = 1\n",
    "    limit = content*threshold/100\n",
    "    print(limit)\n",
    "    real = content - limit\n",
    "    print(real)\n",
    "    lost_each_day = content*evap_per_day/100\n",
    "    print(lost_each_day)\n",
    "    \n",
    "    while content >= lost_each_day:\n",
    "        days +=1\n",
    "        real -= lost_each_day\n",
    "        print(real)\n",
    "    days +=1\n",
    "    return days\n",
    "\n",
    "evaporator(10,5,5)[:10]"
   ]
  },
  {
   "cell_type": "code",
   "execution_count": null,
   "metadata": {},
   "outputs": [],
   "source": [
    "def evaporator(content, evap_per_day, threshold):\n",
    "    days = 1\n",
    "    lost_day = lost_each_day(content, evap_per_day)\n",
    "    real = real_value(content,threshold)\n",
    "    while real >= lost_day:\n",
    "        days +=1\n",
    "        real -= lost_day\n",
    "    return days\n",
    "    \n",
    "def real_value(content,threshold):\n",
    "    return content*(1-(threshold/100))\n",
    "\n",
    "def lost_each_day(content,evap_per_day):\n",
    "    return content*evap_per_day/100\n",
    "\n",
    "evaporator(10,10,10)"
   ]
  },
  {
   "cell_type": "code",
   "execution_count": null,
   "metadata": {},
   "outputs": [],
   "source": [
    "def evaporator(content, evap_per_day, threshold):\n",
    "    day = 0\n",
    "    out = content * ()"
   ]
  },
  {
   "cell_type": "markdown",
   "metadata": {},
   "source": [
    "# New KATA: Código morse con REGEX "
   ]
  },
  {
   "cell_type": "code",
   "execution_count": null,
   "metadata": {},
   "outputs": [],
   "source": [
    "diccionario = {\n",
    "                \"A\" : r\"\\h\\.-\\h\",\n",
    "                \"B\" : r\"\\h-\\.{3}\\h\",\n",
    "                \"C\" : r\"\\h-\\.-\\.\\h\",\n",
    "                \" \" : r\"\\s{3}\"}"
   ]
  },
  {
   "cell_type": "code",
   "execution_count": null,
   "metadata": {},
   "outputs": [],
   "source": [
    "mapa = (\"..........\\n..........\\n.......X..\\n..........\\n..........\")\n",
    "\n",
    "def find_spaceship(astromap):\n",
    "    countdim = 0\n",
    "    countlin = -1\n",
    "    posB = 0\n",
    "    for i in astromap:\n",
    "        if i == \".\" or i == \"X\":\n",
    "            countlin+=1\n",
    "            if i == \"X\":\n",
    "                posA = countlin\n",
    "                posB = countdim\n",
    "    \n",
    "        elif i == \"\\n\":\n",
    "            countdim += 1\n",
    "            countlin = -1\n",
    "        \n",
    "    posreal = countdim - posB\n",
    "    if \"X\" in astromap:\n",
    "        return [posA,posreal]   \n",
    "    else:\n",
    "        return (\"Spaceship lost forever.\")"
   ]
  },
  {
   "cell_type": "code",
   "execution_count": null,
   "metadata": {},
   "outputs": [],
   "source": [
    "def find_spaceship2(astromap):\n",
    "    lines = astromap.splitlines()\n",
    "    for y, line in enumerate(lines):\n",
    "        x = line.find('X')\n",
    "        if x != -1:\n",
    "            return [x, len(lines) - 1 - y]\n",
    "    return 'Spaceship lost forever.'"
   ]
  },
  {
   "cell_type": "code",
   "execution_count": null,
   "metadata": {},
   "outputs": [],
   "source": [
    "find_spaceship2(mapa)"
   ]
  },
  {
   "cell_type": "code",
   "execution_count": null,
   "metadata": {},
   "outputs": [],
   "source": [
    "find_spaceship(mapa)"
   ]
  },
  {
   "cell_type": "markdown",
   "metadata": {},
   "source": [
    "MUY INTERESANTES LAS FUNCIONES:\n",
    "\n",
    " - .splitlines --> divide cuando encuentra un salto de línea\n",
    " - .find --> encuentra posición "
   ]
  },
  {
   "cell_type": "code",
   "execution_count": null,
   "metadata": {},
   "outputs": [],
   "source": [
    "lines = mapa.splitlines()\n",
    "print(lines)\n",
    "print(len(lines))\n",
    "for pos, line in enumerate(lines):\n",
    "    print(pos,line)\n",
    "    x = line.find('X')\n",
    "    print(x)\n",
    "    if x != -1:\n",
    "        print([x, len(lines) - 1 - pos])\n",
    "print('Spaceship lost forever.')"
   ]
  },
  {
   "cell_type": "code",
   "execution_count": null,
   "metadata": {},
   "outputs": [],
   "source": [
    "def find_spaceship3(astromap):\n",
    "    \n",
    "    a = astromap.splitlines\n",
    "    a.reverse()\n",
    "    for lista in a:\n",
    "        if 'X' in lista:\n",
    "            l = a.index(lista)\n",
    "            k = lista.index('X')\n",
    "            return [k,l]\n",
    "    \n",
    "    return 'Spaceship lost forever.'"
   ]
  },
  {
   "cell_type": "markdown",
   "metadata": {},
   "source": [
    "# KATA: The Deaf Rats of Hamelin\n",
    "https://www.codewars.com/kata/the-deaf-rats-of-hamelin/train/python"
   ]
  },
  {
   "cell_type": "code",
   "execution_count": null,
   "metadata": {},
   "outputs": [],
   "source": [
    "def count_deaf_rats(town):\n",
    "    town_clean=town.strip()\n",
    "    for index,value in enumerate(town_clean):\n",
    "        if value == \"P\":\n",
    "            Pposition = index\n",
    "            \n",
    "    town_left = town_clean[:Pposition]\n",
    "    town_right = town_clean[Pposition:]\n",
    "    \n",
    "    rat = 0\n",
    "    deaf_rats_left = 0\n",
    "    for i in town_left:\n",
    "\n",
    "        if i == \"O\" and rat == 0:\n",
    "            deaf_rats_left += 1\n",
    "    \n",
    "        if rat == 1:\n",
    "            rat = 0\n",
    "        else:\n",
    "            rat = 1\n",
    "    \n",
    "    rat = 0\n",
    "    deaf_rats_right = 0\n",
    "    for i in town_right:\n",
    "\n",
    "        if i == \"~\" and rat == 0:\n",
    "            deaf_rats_right += 1\n",
    "    \n",
    "        if rat == 1:\n",
    "            rat = 0\n",
    "        else:\n",
    "            rat = 1\n",
    "    \n",
    "    \n",
    "    #deaf_rats_left = town_left.count(\"O~\")\n",
    "    #deaf_rats_right = town_right.count(\"~O\")\n",
    "    \n",
    "    return deaf_rats_left+deaf_rats_right"
   ]
  },
  {
   "cell_type": "code",
   "execution_count": null,
   "metadata": {},
   "outputs": [],
   "source": [
    "def count_deaf_rats(town):\n",
    "    \n",
    "    town_clean = town.replace(' ', '')\n",
    "    \n",
    "    print(town_clean)\n",
    "    for index,value in enumerate(town_clean):\n",
    "        if value == \"P\":\n",
    "            Pposition = index\n",
    "    print(Pposition)\n",
    "    \n",
    "    deafs = 0\n",
    "    for ind,elem in enumerate(town_clean):\n",
    "        if ind < Pposition and ind%2 == 0 and elem == \"O\":\n",
    "            deafs+=1\n",
    "            print(\"izquierda\",ind)\n",
    "        if ind > Pposition and (ind+1)%2 == 0 and elem == \"~\":\n",
    "            deafs+=1\n",
    "            print(\"derecha\",ind)\n",
    "    return deafs"
   ]
  },
  {
   "cell_type": "code",
   "execution_count": null,
   "metadata": {},
   "outputs": [],
   "source": [
    "count_deaf_rats(\"~OO~ ~O O~~OP~O~OO~ ~OO~~O\")"
   ]
  },
  {
   "cell_type": "markdown",
   "metadata": {},
   "source": [
    "# Kata Happy Year\n",
    "https://www.codewars.com/kata/5ae7e3f068e6445bc8000046/train/python"
   ]
  },
  {
   "cell_type": "code",
   "execution_count": null,
   "metadata": {},
   "outputs": [],
   "source": [
    "def next_happy_year(year):\n",
    "    lst = []\n",
    "    for y in range (1000,9001):\n",
    "        if len(str(y)) == len(set(str(y))):\n",
    "            lst.append(int(y))\n",
    "\n",
    "    where = 0\n",
    "    for ind,val in enumerate(lst):\n",
    "        if year+1 >= val:\n",
    "            where = ind\n",
    "\n",
    "    return (lst[where+1])\n"
   ]
  },
  {
   "cell_type": "code",
   "execution_count": null,
   "metadata": {},
   "outputs": [],
   "source": [
    "print(next_happy_year(2000))"
   ]
  },
  {
   "cell_type": "markdown",
   "metadata": {},
   "source": [
    "# VECTOR CLASS\n",
    "https://www.codewars.com/kata/vector-class/train/python"
   ]
  },
  {
   "cell_type": "code",
   "execution_count": null,
   "metadata": {},
   "outputs": [],
   "source": [
    "class Vector:\n",
    "    def __init__(self, values):\n",
    "        self.values = values\n",
    "        self.length = len(self.values)\n",
    "\n",
    "    def __str__(self):            \n",
    "        str_lst = ','.join([str(self.values[i]) for i in range(self.length)])\n",
    "        return \"(\"+str_lst+\")\"\n",
    "    \n",
    "    def equals(self,equalvect):\n",
    "        return self.values == equalvect.values\n",
    "        \n",
    "    def add (self, addvect):\n",
    "        if self.length == (addvect.length):  \n",
    "            result=[]\n",
    "            for i in range(len(addvect.values)):\n",
    "                result.append(self.values[i]+addvect.values[i])\n",
    "            return Vector(result)\n",
    "        else:\n",
    "            raise ValueError(\"I'm a fancy error message\")\n",
    "\n",
    "    def subtract(self, subvect):\n",
    "        if self.length == (subvect.length):  \n",
    "            result=[]\n",
    "            for i in range(len(subvect.values)):\n",
    "                result.append(self.values[i]-subvect.values[i])\n",
    "            return Vector(result)\n",
    "        else:\n",
    "            raise ValueError(\"I'm a fancy error message\")\n",
    "\n",
    "    def dot (self, dotvect):\n",
    "        if self.length == (dotvect.length):  \n",
    "            result=0\n",
    "            for i in range(len(dotvect.values)):\n",
    "                result+=(self.values[i]*dotvect.values[i])\n",
    "            return result\n",
    "        else:\n",
    "            raise ValueError(\"I'm a fancy error message\")\n",
    "\n",
    "    def norm (self):\n",
    "        result=0\n",
    "        for i in self.values:\n",
    "            result += i**2\n",
    "        return (result)**0.5"
   ]
  },
  {
   "cell_type": "code",
   "execution_count": null,
   "metadata": {},
   "outputs": [],
   "source": [
    "a = Vector([1, 2, 3])\n",
    "b = Vector([3, 4, 5])\n",
    "c = Vector([3,4,5,6])"
   ]
  },
  {
   "cell_type": "code",
   "execution_count": null,
   "metadata": {},
   "outputs": [],
   "source": [
    "str(a)"
   ]
  },
  {
   "cell_type": "code",
   "execution_count": null,
   "metadata": {},
   "outputs": [],
   "source": [
    "c.equals(d)"
   ]
  },
  {
   "cell_type": "code",
   "execution_count": null,
   "metadata": {},
   "outputs": [],
   "source": [
    "a.subtract(b)"
   ]
  },
  {
   "cell_type": "code",
   "execution_count": null,
   "metadata": {},
   "outputs": [],
   "source": [
    "a.dot(b)"
   ]
  },
  {
   "cell_type": "code",
   "execution_count": null,
   "metadata": {},
   "outputs": [],
   "source": [
    "a.norm()"
   ]
  },
  {
   "cell_type": "code",
   "execution_count": null,
   "metadata": {},
   "outputs": [],
   "source": [
    "c= a.add(b)"
   ]
  },
  {
   "cell_type": "code",
   "execution_count": null,
   "metadata": {},
   "outputs": [],
   "source": [
    "a.add(c)"
   ]
  },
  {
   "cell_type": "code",
   "execution_count": null,
   "metadata": {},
   "outputs": [],
   "source": [
    "a = Vector([1, 2])\n",
    "b = Vector([3, 4])\n",
    "c= a.add(b)\n",
    "d = Vector([4,6])\n",
    "c"
   ]
  },
  {
   "cell_type": "markdown",
   "metadata": {},
   "source": [
    "# Pete, the baker\n",
    "\n",
    "https://www.codewars.com/kata/525c65e51bf619685c000059/train/python"
   ]
  },
  {
   "cell_type": "code",
   "execution_count": 2,
   "metadata": {},
   "outputs": [
    {
     "name": "stdout",
     "output_type": "stream",
     "text": [
      "['flour', 'sugar', 'eggs']\n",
      "['flour', 'sugar', 'eggs', 'milk']\n",
      "rec= 500\n",
      "avail= 1200\n",
      "2\n",
      "2\n",
      "rec= 200\n",
      "avail= 1200\n",
      "6\n",
      "rec= 1\n",
      "avail= 5\n",
      "5\n"
     ]
    }
   ],
   "source": [
    "recipe = {\"flour\": 500, \"sugar\": 200, \"eggs\": 1}\n",
    "available = {\"flour\": 1200, \"sugar\": 1200, \"eggs\": 5, \"milk\": 200}\n",
    "minim = 100\n",
    "print(list(recipe.keys()))\n",
    "print(list(available.keys()))\n",
    "\n",
    "for i in list(recipe.keys()):\n",
    "    if i not in list(available.keys()):\n",
    "        print(\"NO HAY EXISTENCIAS DISPONIBLES\")\n",
    "\n",
    "for rec in recipe:\n",
    "    print(\"rec=\",recipe[rec])\n",
    "    print(\"avail=\",available[rec])\n",
    "    val = int(available[rec])//int(recipe[rec])\n",
    "    print(val)\n",
    "    if val < minim:\n",
    "        minim = val\n",
    "        print(minim)\n"
   ]
  },
  {
   "cell_type": "code",
   "execution_count": null,
   "metadata": {},
   "outputs": [],
   "source": [
    "1200//500"
   ]
  },
  {
   "cell_type": "code",
   "execution_count": 4,
   "metadata": {},
   "outputs": [],
   "source": [
    "def cakes(recipe, available):\n",
    "    for i in list(recipe.keys()):\n",
    "        if i not in list(available.keys()):\n",
    "            return 0\n",
    "\n",
    "    minim = 100\n",
    "    for rec in recipe:\n",
    "        val = int(available[rec])//int(recipe[rec])\n",
    "        if val < minim:\n",
    "            minim = val\n",
    "    return minim"
   ]
  },
  {
   "cell_type": "code",
   "execution_count": null,
   "metadata": {},
   "outputs": [],
   "source": [
    "def cakes(recipe, available):\n",
    "    for i in list(recipe.keys()):\n",
    "        if i not in list(available.keys()):\n",
    "            return 0\n",
    "    ck=[]\n",
    "    for rec in recipe:\n",
    "        ck.append(int(available[rec])//int(recipe[rec]))\n",
    "    return min(ck)"
   ]
  },
  {
   "cell_type": "code",
   "execution_count": 5,
   "metadata": {},
   "outputs": [],
   "source": [
    "def cakes(recipe, available):\n",
    "    return min(available.get(k, 0)/recipe[k] for k in recipe)"
   ]
  },
  {
   "cell_type": "code",
   "execution_count": 6,
   "metadata": {},
   "outputs": [
    {
     "data": {
      "text/plain": [
       "0.0"
      ]
     },
     "execution_count": 6,
     "metadata": {},
     "output_type": "execute_result"
    }
   ],
   "source": [
    "cakes(recipe, available)"
   ]
  },
  {
   "cell_type": "markdown",
   "metadata": {},
   "source": [
    "# TERMINAR!\n",
    "\n",
    "## Complete the table pattern\n",
    "https://www.codewars.com/kata/5827e2efc983ca6f230000e0/train/python"
   ]
  },
  {
   "cell_type": "code",
   "execution_count": 103,
   "metadata": {},
   "outputs": [],
   "source": [
    "rows = 4\n",
    "cols = 5\n",
    "s = \"Hello World!\""
   ]
  },
  {
   "cell_type": "code",
   "execution_count": 107,
   "metadata": {},
   "outputs": [
    {
     "name": "stdout",
     "output_type": "stream",
     "text": [
      "H\n",
      "e\n",
      "l\n",
      "l\n",
      "o\n"
     ]
    }
   ],
   "source": [
    "sep = (\"+---\")*cols+\"+\"\n",
    "cont = 0\n",
    "out = \"\"\n",
    "for r in range(cols):\n",
    "    out+=sep+'\\n'\n",
    "    (f'| {s[cont]}')\n",
    "    cont+=1\n",
    "    "
   ]
  },
  {
   "cell_type": "code",
   "execution_count": 34,
   "metadata": {},
   "outputs": [
    {
     "name": "stdout",
     "output_type": "stream",
     "text": [
      "+---+---+---+---+---+\n",
      "| H | H | H | H | H |\n",
      "+---+---+---+---+---+\n",
      "| H | H | H | H | H |\n",
      "+---+---+---+---+---+\n",
      "| H | H | H | H | H |\n",
      "+---+---+---+---+---+\n",
      "| H | H | H | H | H |\n",
      "+---+---+---+---+---+\n",
      "\n"
     ]
    }
   ],
   "source": [
    "B = (\"| \"+s[0]+\" \")*n+\"|\\n\"\n",
    "print((A+B)*m+A)"
   ]
  },
  {
   "cell_type": "code",
   "execution_count": 67,
   "metadata": {},
   "outputs": [
    {
     "name": "stdout",
     "output_type": "stream",
     "text": [
      "0\n",
      "0\n",
      "0\n",
      "0\n",
      "0\n",
      "1\n",
      "1\n",
      "1\n",
      "1\n",
      "1\n",
      "2\n",
      "2\n"
     ]
    }
   ],
   "source": [
    "for elem,valor in enumerate(s):\n",
    "    print (elem//n)"
   ]
  },
  {
   "cell_type": "markdown",
   "metadata": {},
   "source": [
    "## The Supermarket Queue\n",
    "\n",
    "https://www.codewars.com/kata/57b06f90e298a7b53d000a86/train/python"
   ]
  },
  {
   "cell_type": "code",
   "execution_count": 82,
   "metadata": {},
   "outputs": [],
   "source": [
    "per,n = [2,3,10,12,4,5,6,7],2"
   ]
  },
  {
   "cell_type": "code",
   "execution_count": 2,
   "metadata": {},
   "outputs": [
    {
     "ename": "SyntaxError",
     "evalue": "can't assign to literal (<ipython-input-2-826f24f45604>, line 2)",
     "output_type": "error",
     "traceback": [
      "\u001b[0;36m  File \u001b[0;32m\"<ipython-input-2-826f24f45604>\"\u001b[0;36m, line \u001b[0;32m2\u001b[0m\n\u001b[0;31m    f\"queue_{number}\" = 0\u001b[0m\n\u001b[0m    ^\u001b[0m\n\u001b[0;31mSyntaxError\u001b[0m\u001b[0;31m:\u001b[0m can't assign to literal\n"
     ]
    }
   ],
   "source": [
    "for i in per:\n",
    "    "
   ]
  },
  {
   "cell_type": "code",
   "execution_count": 36,
   "metadata": {},
   "outputs": [
    {
     "name": "stdout",
     "output_type": "stream",
     "text": [
      "[[2, 3, 10], []]\n"
     ]
    }
   ],
   "source": []
  },
  {
   "cell_type": "code",
   "execution_count": 56,
   "metadata": {},
   "outputs": [
    {
     "name": "stdout",
     "output_type": "stream",
     "text": [
      "[15, 12, 6]\n",
      "2\n"
     ]
    }
   ],
   "source": [
    "lst = [[0, 2, 3, 10], [0, 2, 10],[1,2,3]]\n",
    "suma= [sum(i) for i in lst]\n",
    "print(suma)\n",
    "print(suma.index(min(suma)))"
   ]
  },
  {
   "cell_type": "code",
   "execution_count": 79,
   "metadata": {},
   "outputs": [],
   "source": [
    "lst = [[0, 2, 3, 10], [0, 2, 10],[1,2,3]]\n",
    "\n",
    "def findIndMin(lst):\n",
    "    suma=[]\n",
    "    for val in lst:\n",
    "        suma.append(sum(val))\n",
    "    return suma.index(min(suma))\n",
    "\n",
    "\n",
    "def findMax(lst):\n",
    "    suma=[]\n",
    "    for val in lst:\n",
    "        suma.append(sum(val))\n",
    "    return max(suma)\n",
    "\n"
   ]
  },
  {
   "cell_type": "code",
   "execution_count": 51,
   "metadata": {},
   "outputs": [
    {
     "name": "stdout",
     "output_type": "stream",
     "text": [
      "2\n",
      "15\n"
     ]
    }
   ],
   "source": [
    "print(findMin(lst))\n",
    "print(findMax(lst))"
   ]
  },
  {
   "cell_type": "code",
   "execution_count": 53,
   "metadata": {},
   "outputs": [
    {
     "name": "stdout",
     "output_type": "stream",
     "text": [
      "[[2, 10], [3]]\n",
      "12\n"
     ]
    }
   ],
   "source": [
    "queue = [[] for _ in range(n)]\n",
    "\n",
    "for i in per:\n",
    "    \n",
    "    queue[findMin(queue)].append(i)\n",
    "\n",
    "print(queue)\n",
    "print(findMax(queue))\n",
    "    "
   ]
  },
  {
   "cell_type": "markdown",
   "metadata": {},
   "source": [
    "#### My sol"
   ]
  },
  {
   "cell_type": "code",
   "execution_count": 59,
   "metadata": {},
   "outputs": [],
   "source": [
    "def findIndMin(lst):\n",
    "    suma = [sum(i) for i in lst]\n",
    "    return suma.index(min(suma))\n",
    "\n",
    "def findMax(lst):\n",
    "    suma = [sum(i) for i in lst]\n",
    "    return max(suma)\n",
    "\n",
    "\n",
    "def queue_time(customers, n):\n",
    "    queue = [[] for _ in range(n)]\n",
    "    for i in customers:\n",
    "        queue[findIndMin(queue)].append(i)\n",
    "    return findMax(queue)"
   ]
  },
  {
   "cell_type": "markdown",
   "metadata": {},
   "source": [
    "Best in kata"
   ]
  },
  {
   "cell_type": "code",
   "execution_count": 60,
   "metadata": {},
   "outputs": [],
   "source": [
    "def queue_time2(customers, n):\n",
    "    l=[0]*n\n",
    "    for i in customers:\n",
    "        l[l.index(min(l))]+=i\n",
    "    return max(l)"
   ]
  },
  {
   "cell_type": "code",
   "execution_count": 61,
   "metadata": {},
   "outputs": [
    {
     "name": "stdout",
     "output_type": "stream",
     "text": [
      "[0, 0]\n"
     ]
    }
   ],
   "source": [
    "l=[0]*n\n",
    "print(l)"
   ]
  },
  {
   "cell_type": "code",
   "execution_count": 67,
   "metadata": {},
   "outputs": [
    {
     "name": "stdout",
     "output_type": "stream",
     "text": [
      "26\n"
     ]
    }
   ],
   "source": [
    "q = queue_time2([12,4,5,3,3,3,2,1,2,15,1,2,3,2,2],3)\n",
    "print(q)"
   ]
  },
  {
   "cell_type": "code",
   "execution_count": 84,
   "metadata": {},
   "outputs": [
    {
     "name": "stdout",
     "output_type": "stream",
     "text": [
      "[2, 0]\n",
      "[2, 3]\n",
      "[12, 3]\n",
      "[12, 15]\n",
      "[16, 15]\n",
      "[16, 20]\n",
      "[22, 20]\n",
      "[22, 27]\n",
      "[22, 27]\n",
      "27\n"
     ]
    }
   ],
   "source": [
    "l=[0]*n\n",
    "for i in per:\n",
    "    l[l.index(min(l))]+=i\n",
    "    print(l)\n",
    "print(l)\n",
    "print(max(l))"
   ]
  },
  {
   "cell_type": "code",
   "execution_count": 86,
   "metadata": {},
   "outputs": [
    {
     "name": "stdout",
     "output_type": "stream",
     "text": [
      "[[2], []]\n",
      "[[2], [3]]\n",
      "[[2, 10], [3]]\n",
      "[[2, 10], [3, 12]]\n",
      "[[2, 10, 4], [3, 12]]\n",
      "[[2, 10, 4], [3, 12, 5]]\n",
      "[[2, 10, 4, 6], [3, 12, 5]]\n",
      "[[2, 10, 4, 6], [3, 12, 5, 7]]\n",
      "[[2, 10, 4, 6], [3, 12, 5, 7]]\n",
      "27\n"
     ]
    }
   ],
   "source": [
    "queue = [[] for _ in range(n)]\n",
    "for i in per:\n",
    "    queue[findIndMin(queue)].append(i)\n",
    "    print(queue)\n",
    "print(queue)\n",
    "print(findMax(queue))"
   ]
  },
  {
   "cell_type": "markdown",
   "metadata": {},
   "source": [
    "## FIXME: Hello\n",
    "\n",
    "https://www.codewars.com/kata/fixme-hello/train/python"
   ]
  },
  {
   "cell_type": "code",
   "execution_count": 115,
   "metadata": {},
   "outputs": [],
   "source": [
    "class Dinglemouse(object):\n",
    "    \n",
    "    def __init__(self):\n",
    "        self.datos = dict()\n",
    "        #self.name = name\n",
    "        #self...\n",
    "        \n",
    "    def setAge(self,age):\n",
    "        #self.age = age        \n",
    "        #return self\n",
    "        self.datos['age']=f\"I am {age}.\"\n",
    "        return self\n",
    "    \n",
    "    def setSex(self,sex):\n",
    "        self.datos['sex'] = f\"I am {'male' if sex=='M' else 'female'}.\"\n",
    "        return self\n",
    "        \n",
    "    def setName(self,name):\n",
    "        self.datos['name'] = f\"My name is {name}.\"\n",
    "        return self\n",
    "        \n",
    "    def hello(self):\n",
    "        \n",
    "        return ' '.join([\"Hello.\"]+ list(self.datos.values()))\n",
    "        \n",
    "        \n",
    "        ## return \"Hello. My name is {}. I am {}. I am {}.\"\n",
    "        ## .format(self.name, self.age, \"male\" if self.sex=='M' else \"female\")"
   ]
  },
  {
   "cell_type": "markdown",
   "metadata": {},
   "source": [
    "#### Magia: Cambiar el modelo de recogída de datos a un diccionario. Como tiene que guardar el orden de ingreso de los datos. Cada vez que se ingresa un valor se guarda en el diccionario para que a la hora de devolverlo (en formato lista) guarde el orden original de entrada."
   ]
  },
  {
   "cell_type": "code",
   "execution_count": 119,
   "metadata": {},
   "outputs": [
    {
     "name": "stdout",
     "output_type": "stream",
     "text": [
      "Hello. My name is Juan. I am male. I am 24.\n",
      "Hello. My name is Laura. I am 32. I am female.\n"
     ]
    }
   ],
   "source": [
    "dm = Dinglemouse().setName(\"Juan\").setSex(\"M\").setAge(\"24\")\n",
    "print(dm.hello())\n",
    "\n",
    "dm2 = Dinglemouse().setName(\"Laura\").setAge(\"32\").setSex(\"female\")\n",
    "print(dm2.hello())"
   ]
  },
  {
   "cell_type": "markdown",
   "metadata": {},
   "source": [
    "# Directions Reduction\n",
    "\n",
    "\n",
    "# PENDIENTE!!!!!!!!!!!!!!!!!!\n",
    "\n",
    "https://www.codewars.com/kata/550f22f4d758534c1100025a/train/python"
   ]
  },
  {
   "cell_type": "code",
   "execution_count": 19,
   "metadata": {},
   "outputs": [],
   "source": [
    "a = [\"NORTH\", \"SOUTH\", \"SOUTH\", \"EAST\", \"WEST\", \"NORTH\", \"WEST\",\"SOUTH\"]"
   ]
  },
  {
   "cell_type": "code",
   "execution_count": 20,
   "metadata": {},
   "outputs": [
    {
     "name": "stdout",
     "output_type": "stream",
     "text": [
      "[[0, 'NORTH', 1], [1, 'SOUTH', -1], [2, 'SOUTH', -1], [5, 'NORTH', 1], [7, 'SOUTH', -1]]\n",
      "[[3, 'EAST', -1], [4, 'WEST', 1], [6, 'WEST', 1]]\n"
     ]
    }
   ],
   "source": [
    "NS =[]\n",
    "WE=[]\n",
    "for ind,val in enumerate(a):\n",
    "    if val == \"NORTH\":\n",
    "        NS.append([ind,val,1])\n",
    "    elif val == \"SOUTH\":\n",
    "        NS.append([ind,val,-1])\n",
    "    elif val == \"WEST\":\n",
    "        WE.append([ind,val,1])\n",
    "    elif val == \"EAST\":\n",
    "        WE.append([ind,val,-1])\n",
    "        \n",
    "\n",
    "print(NS)\n",
    "print(WE)\n",
    "        "
   ]
  },
  {
   "cell_type": "code",
   "execution_count": 24,
   "metadata": {},
   "outputs": [
    {
     "name": "stdout",
     "output_type": "stream",
     "text": [
      "[[0, 'NORTH', 1], [1, 'SOUTH', -1], [2, 'SOUTH', -1], [5, 'NORTH', 1], [7, 'SOUTH', -1]]\n",
      "[[3, 'EAST', -1], [4, 'WEST', 1], [6, 'WEST', 1]]\n",
      "-1\n",
      "-1 1\n"
     ]
    }
   ],
   "source": [
    "moves = {\"NORTH\":(1,0),\"SOUTH\":(-1,0),\"EAST\":(0,1),\"WEST\":(0,-1)}\n",
    "pcol,prow = 0,0\n",
    "NS =[]\n",
    "WE=[]\n",
    "for ind,val in enumerate(a):\n",
    "    if val == \"NORTH\":\n",
    "        NS.append([ind,val,1])\n",
    "        pcol+=1\n",
    "    elif val == \"SOUTH\":\n",
    "        NS.append([ind,val,-1])\n",
    "        pcol-=1\n",
    "    elif val == \"WEST\":\n",
    "        WE.append([ind,val,1])\n",
    "        prow+=1\n",
    "    elif val == \"EAST\":\n",
    "        WE.append([ind,val,-1])\n",
    "        prow-=1\n",
    "\n",
    "print(NS)\n",
    "print(WE)\n",
    "\n",
    "C = 0\n",
    "for i in NS:\n",
    "    C+=i[2]\n",
    "print(C)\n",
    "\n",
    "print(pcol,prow)"
   ]
  },
  {
   "cell_type": "code",
   "execution_count": 26,
   "metadata": {},
   "outputs": [
    {
     "data": {
      "text/plain": [
       "['WEST', 'SOUTH']"
      ]
     },
     "execution_count": 26,
     "metadata": {},
     "output_type": "execute_result"
    }
   ],
   "source": [
    "result=[]\n",
    "if prow > 0:\n",
    "    for i in range(prow):\n",
    "        result.append(\"WEST\")\n",
    "elif prow < 0:\n",
    "     for i in range(prow):\n",
    "        result.append(\"EAST\")\n",
    "        \n",
    "if pcol > 0:\n",
    "    for i in range(pcol):\n",
    "        result.append(\"NORTH\")\n",
    "elif pcol < 0:\n",
    "     for i in range(prow):\n",
    "        result.append(\"SOUTH\")\n",
    "        \n",
    "result"
   ]
  },
  {
   "cell_type": "code",
   "execution_count": 27,
   "metadata": {},
   "outputs": [],
   "source": [
    "def what(a):\n",
    "    pcol,prow = 0,0\n",
    "    for val in a:\n",
    "        if val == \"n\":\n",
    "            pcol+=1\n",
    "        elif val == \"s\":\n",
    "            pcol-=1\n",
    "        elif val == \"w\":\n",
    "            prow+=1\n",
    "        elif val == \"e\":\n",
    "            prow-=1\n",
    "    \n",
    "    if pcol==0 and prow==0\n",
    "    result=[]\n",
    "    if prow > 0:\n",
    "        for i in range(prow):\n",
    "            result.append(\"w\")\n",
    "    elif prow < 0:\n",
    "         for i in range(prow):\n",
    "            result.append(\"e\")\n",
    "\n",
    "    if pcol > 0:\n",
    "        for i in range(pcol):\n",
    "            result.append(\"n\")\n",
    "    elif pcol < 0:\n",
    "         for i in range(prow):\n",
    "            result.append(\"s\")\n",
    "\n",
    "    return result"
   ]
  },
  {
   "cell_type": "code",
   "execution_count": 28,
   "metadata": {},
   "outputs": [
    {
     "data": {
      "text/plain": [
       "['WEST', 'SOUTH']"
      ]
     },
     "execution_count": 28,
     "metadata": {},
     "output_type": "execute_result"
    }
   ],
   "source": [
    "what(a) ### NO VALE PORQUE SI CAE NSWE, DEBE DEVOLVER NSWE"
   ]
  },
  {
   "cell_type": "code",
   "execution_count": null,
   "metadata": {},
   "outputs": [],
   "source": [
    "\n",
    "\n",
    "last = \"\"\n",
    "res =\n",
    "for i in a:\n",
    "    if i != last:\n",
    "        \n",
    "    last = i\n",
    "    "
   ]
  },
  {
   "cell_type": "code",
   "execution_count": 1,
   "metadata": {},
   "outputs": [],
   "source": [
    "#KATA WAR!"
   ]
  },
  {
   "cell_type": "code",
   "execution_count": 9,
   "metadata": {},
   "outputs": [],
   "source": [
    "n = 5\n",
    "b=[]\n",
    "for i in range(1000):\n",
    "    if i%2 != 0:\n",
    "        b.append(i)\n",
    "serie = b[:n]"
   ]
  },
  {
   "cell_type": "code",
   "execution_count": 11,
   "metadata": {},
   "outputs": [
    {
     "data": {
      "text/plain": [
       "['*', '***', '*****', '*******', '*********']"
      ]
     },
     "execution_count": 11,
     "metadata": {},
     "output_type": "execute_result"
    }
   ],
   "source": [
    "res=[]\n",
    "for i in serie:\n",
    "    res.append(\"*\"*i)\n",
    "res"
   ]
  },
  {
   "cell_type": "code",
   "execution_count": null,
   "metadata": {},
   "outputs": [],
   "source": [
    "b=[]\n",
    "for i in range(100000):\n",
    "    if i%2 != 0:\n",
    "        b.append(i)\n",
    "serie = b[:n]\n",
    "res=[]\n",
    "for i in serie:\n",
    "    res.append(\"*\"*i)\n",
    "res"
   ]
  },
  {
   "cell_type": "code",
   "execution_count": 12,
   "metadata": {},
   "outputs": [],
   "source": [
    "a=\"4556364607935616\""
   ]
  },
  {
   "cell_type": "code",
   "execution_count": 14,
   "metadata": {},
   "outputs": [
    {
     "ename": "TypeError",
     "evalue": "'str' object cannot be interpreted as an integer",
     "output_type": "error",
     "traceback": [
      "\u001b[0;31m---------------------------------------------------------------------------\u001b[0m",
      "\u001b[0;31mTypeError\u001b[0m                                 Traceback (most recent call last)",
      "\u001b[0;32m<ipython-input-14-83299fd224e1>\u001b[0m in \u001b[0;36m<module>\u001b[0;34m\u001b[0m\n\u001b[0;32m----> 1\u001b[0;31m \u001b[0mpos\u001b[0m \u001b[0;34m=\u001b[0m \u001b[0mrange\u001b[0m\u001b[0;34m(\u001b[0m\u001b[0ma\u001b[0m\u001b[0;34m)\u001b[0m\u001b[0;34m[\u001b[0m\u001b[0;34m-\u001b[0m\u001b[0;36m4\u001b[0m\u001b[0;34m]\u001b[0m\u001b[0;34m\u001b[0m\u001b[0;34m\u001b[0m\u001b[0m\n\u001b[0m",
      "\u001b[0;31mTypeError\u001b[0m: 'str' object cannot be interpreted as an integer"
     ]
    }
   ],
   "source": [
    "pos = range(a)[-4]"
   ]
  },
  {
   "cell_type": "markdown",
   "metadata": {},
   "source": [
    "https://www.codewars.com/kata/576757b1df89ecf5bd00073b/train/python\n",
    "\n",
    "https://www.codewars.com/kata/5412509bd436bd33920011bc/train/python\n",
    "\n",
    "https://www.codewars.com/kata/5981ff1daf72e8747d000091/train/python"
   ]
  },
  {
   "cell_type": "code",
   "execution_count": 15,
   "metadata": {},
   "outputs": [],
   "source": [
    "a=\"01000000X000X011X0X\""
   ]
  },
  {
   "cell_type": "code",
   "execution_count": 16,
   "metadata": {},
   "outputs": [],
   "source": [
    "b=a.split(\"X\")"
   ]
  },
  {
   "cell_type": "code",
   "execution_count": 17,
   "metadata": {},
   "outputs": [
    {
     "data": {
      "text/plain": [
       "['01000000', '000', '011', '0', '']"
      ]
     },
     "execution_count": 17,
     "metadata": {},
     "output_type": "execute_result"
    }
   ],
   "source": [
    "b"
   ]
  },
  {
   "cell_type": "code",
   "execution_count": 24,
   "metadata": {},
   "outputs": [
    {
     "name": "stdout",
     "output_type": "stream",
     "text": [
      "11\n",
      "15\n"
     ]
    }
   ],
   "source": [
    "c=0\n",
    "m=0\n",
    "for i in b:\n",
    "    if \"1\" in i:\n",
    "        for elem in i:\n",
    "            c+=1\n",
    "for i in b:\n",
    "    for elem in i:\n",
    "        m+=1\n",
    "            \n",
    "print(c)\n",
    "print(m)"
   ]
  },
  {
   "cell_type": "code",
   "execution_count": 29,
   "metadata": {},
   "outputs": [],
   "source": [
    "\n",
    "class Potion:\n",
    "    def __init__(self, color, volume):\n",
    "        self.color = color\n",
    "        self.volume = volume\n",
    "        \n",
    "    \n",
    "    def mix(self, other):\n",
    "        sol=[]\n",
    "        total = self.color + other.color\n",
    "        mix_self = self.color/total\n",
    "        mix_other = other.color/total\n",
    "        for i in range(3):\n",
    "            sol[i]=self.color[i]*mix_self+other.color[i]*mix_other\n",
    "        \n",
    "        return sol"
   ]
  },
  {
   "cell_type": "code",
   "execution_count": 26,
   "metadata": {},
   "outputs": [],
   "source": [
    "potions = [\n",
    "    Potion((153, 210, 199), 32),\n",
    "    Potion((135,  34,   0), 17),\n",
    "    Potion((18,   19,  20), 25),\n",
    "    Potion((174, 211,  13),  4),\n",
    "    Potion((255,  23, 148), 19),\n",
    "    Potion((51,  102,  51),  6)\n",
    "]"
   ]
  },
  {
   "cell_type": "code",
   "execution_count": 28,
   "metadata": {},
   "outputs": [
    {
     "name": "stdout",
     "output_type": "stream",
     "text": [
      "<__main__.Potion object at 0x10ff69890>\n"
     ]
    }
   ],
   "source": [
    "print(potions[0])"
   ]
  },
  {
   "cell_type": "code",
   "execution_count": 33,
   "metadata": {},
   "outputs": [
    {
     "name": "stdout",
     "output_type": "stream",
     "text": [
      "[0, 1, 2]\n"
     ]
    }
   ],
   "source": [
    "print(list(range(3)))"
   ]
  },
  {
   "cell_type": "code",
   "execution_count": 34,
   "metadata": {},
   "outputs": [
    {
     "ename": "SyntaxError",
     "evalue": "invalid syntax (<ipython-input-34-4363052f2f3b>, line 1)",
     "output_type": "error",
     "traceback": [
      "\u001b[0;36m  File \u001b[0;32m\"<ipython-input-34-4363052f2f3b>\"\u001b[0;36m, line \u001b[0;32m1\u001b[0m\n\u001b[0;31m    https://www.codewars.com/kata/5981ff1daf72e8747d000091/train/python\u001b[0m\n\u001b[0m           ^\u001b[0m\n\u001b[0;31mSyntaxError\u001b[0m\u001b[0;31m:\u001b[0m invalid syntax\n"
     ]
    }
   ],
   "source": []
  },
  {
   "cell_type": "code",
   "execution_count": null,
   "metadata": {},
   "outputs": [],
   "source": []
  },
  {
   "cell_type": "code",
   "execution_count": null,
   "metadata": {},
   "outputs": [],
   "source": [
    "def what(a):\n",
    "    pcol,prow = 0,0\n",
    "    for val in a:\n",
    "        if val == \"n\":\n",
    "            pcol+=1\n",
    "        elif val == \"s\":\n",
    "            pcol-=1\n",
    "        elif val == \"w\":\n",
    "            prow+=1\n",
    "        elif val == \"e\":\n",
    "            prow-=1\n",
    "    if pcol==0 and prow==0:\n",
    "        return True\n",
    "    else:\n",
    "        return False"
   ]
  },
  {
   "cell_type": "code",
   "execution_count": 54,
   "metadata": {},
   "outputs": [],
   "source": [
    "m=[0,1,None,2,False,1,0]"
   ]
  },
  {
   "cell_type": "code",
   "execution_count": 61,
   "metadata": {},
   "outputs": [
    {
     "name": "stdout",
     "output_type": "stream",
     "text": [
      "[1, None, 2, False, 1]\n",
      "3\n",
      "3\n",
      "[0, 0, 0]\n",
      "[1, None, 2, False, 1, 0, 0, 0]\n"
     ]
    }
   ],
   "source": [
    "a=[]\n",
    "for i in m:\n",
    "    if str(i) != \"0\":\n",
    "        a.append(i)\n",
    "\n",
    "z= m.count(0)\n",
    "\n",
    "b=[0]*(z)\n",
    "\n",
    "print(a)\n",
    "print(z)\n",
    "print(l)\n",
    "print(b)\n",
    "res = a+b\n",
    "print(res)\n",
    "#return res"
   ]
  },
  {
   "cell_type": "markdown",
   "metadata": {},
   "source": [
    "https://www.codewars.com/kata/52774a314c2333f0a7000688/train/python"
   ]
  },
  {
   "cell_type": "code",
   "execution_count": 62,
   "metadata": {},
   "outputs": [],
   "source": [
    "def valid_parentheses(string):\n",
    "    open=0\n",
    "    close=0\n",
    "    a=\"\"\n",
    "    m = string.count(\"(\")\n",
    "    n = string.count(\")\")\n",
    "    for val in string:\n",
    "        a=\"\"\n",
    "        if val == \"(\":\n",
    "            a=\"open\"\n",
    "            open+=1\n",
    "        elif val == \")\":\n",
    "            a=\"close\"\n",
    "            close+=1\n",
    "    res = open-close\n",
    "    if (res == 0 and a == \"close\") or m+n == 0:\n",
    "        return True\n",
    "    elif string[0]==\")\" or string[-1]!=\")\":\n",
    "        return False\n",
    "    else:\n",
    "        return False"
   ]
  },
  {
   "cell_type": "code",
   "execution_count": null,
   "metadata": {},
   "outputs": [],
   "source": []
  }
 ],
 "metadata": {
  "kernelspec": {
   "display_name": "Python 3",
   "language": "python",
   "name": "python3"
  },
  "language_info": {
   "codemirror_mode": {
    "name": "ipython",
    "version": 3
   },
   "file_extension": ".py",
   "mimetype": "text/x-python",
   "name": "python",
   "nbconvert_exporter": "python",
   "pygments_lexer": "ipython3",
   "version": "3.7.6"
  }
 },
 "nbformat": 4,
 "nbformat_minor": 2
}
