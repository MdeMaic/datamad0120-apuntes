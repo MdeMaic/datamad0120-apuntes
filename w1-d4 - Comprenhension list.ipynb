{
 "cells": [
  {
   "cell_type": "markdown",
   "metadata": {},
   "source": [
    "# Resolución de los * y ** (Posicionales y KeyWords)"
   ]
  },
  {
   "cell_type": "code",
   "execution_count": 17,
   "metadata": {},
   "outputs": [
    {
     "name": "stdout",
     "output_type": "stream",
     "text": [
      "(4, 6, 15, 48, 465, 23, 96) {'A': 16, 'B': 32, 'C': 64}\n"
     ]
    },
    {
     "data": {
      "text/plain": [
       "769"
      ]
     },
     "execution_count": 17,
     "metadata": {},
     "output_type": "execute_result"
    }
   ],
   "source": [
    "a=4\n",
    "b=6\n",
    "c=15\n",
    "d=[48, 465, 23, 96]\n",
    "e={'A':16, 'B':32, 'C':64}\n",
    "\n",
    "def summation(*args,**kwargs):\n",
    "    print(args,kwargs)\n",
    "    sumargs = sum(args)\n",
    "    sumkwargs = sum(kwargs.values())\n",
    "    return sumargs + sumkwargs\n",
    "\n",
    "summation(a,b,c,*d,**e)"
   ]
  },
  {
   "cell_type": "code",
   "execution_count": 18,
   "metadata": {},
   "outputs": [
    {
     "data": {
      "text/plain": [
       "769"
      ]
     },
     "execution_count": 18,
     "metadata": {},
     "output_type": "execute_result"
    }
   ],
   "source": [
    "def summation2(*args):\n",
    "    return sum(args)\n",
    "\n",
    "summation2(a,b,c,*d,*e.values())"
   ]
  },
  {
   "cell_type": "markdown",
   "metadata": {},
   "source": [
    "# Funciones interesantes"
   ]
  },
  {
   "cell_type": "code",
   "execution_count": 22,
   "metadata": {},
   "outputs": [
    {
     "name": "stdout",
     "output_type": "stream",
     "text": [
      "['a', 'clara', 'le', 'encanta', 'el', 'split']\n",
      "a#clara#le#encanta#el#split\n"
     ]
    }
   ],
   "source": [
    "#split\n",
    "a = \"a-clara-le-encanta-el-split\"\n",
    "lst = a.split(\"-\")\n",
    "print(lst)\n",
    "\n",
    "#join\n",
    "lst2 = \"#\".join(lst)\n",
    "print(lst2)\n",
    "# Join no te permite juntar integrers --> Hay que hacer CAST"
   ]
  },
  {
   "cell_type": "code",
   "execution_count": 27,
   "metadata": {},
   "outputs": [
    {
     "name": "stdout",
     "output_type": "stream",
     "text": [
      "Número por favor: 10\n",
      "20\n"
     ]
    }
   ],
   "source": [
    "#input & type casting\n",
    "a = input(\"Número por favor: \")\n",
    "print (int(a)+10)"
   ]
  },
  {
   "cell_type": "code",
   "execution_count": null,
   "metadata": {},
   "outputs": [],
   "source": [
    "#String operations --> capitalize(), lower(), upper()\n"
   ]
  },
  {
   "cell_type": "code",
   "execution_count": 28,
   "metadata": {},
   "outputs": [
    {
     "name": "stdout",
     "output_type": "stream",
     "text": [
      "Hola 0\n",
      "como 1\n",
      "estas 2\n"
     ]
    }
   ],
   "source": [
    "# enumerate\n",
    "a = [\"Hola\", \"como\", \"estas\"]\n",
    "for i,e in enumerate(a):\n",
    "    print(e,i)"
   ]
  },
  {
   "cell_type": "markdown",
   "metadata": {},
   "source": [
    "# List Comprenhension"
   ]
  },
  {
   "cell_type": "code",
   "execution_count": 30,
   "metadata": {},
   "outputs": [
    {
     "name": "stdout",
     "output_type": "stream",
     "text": [
      "['Hola🐢', 'como🐢', 'estas🐢']\n"
     ]
    }
   ],
   "source": [
    "#Transformación de la lista:\n",
    "#Las comprenhension list genera otra lista\n",
    "a = [\"Hola\", \"como\", \"estas\"]\n",
    "lst = [e+\"🐢\" for e in a]\n",
    "print(lst)"
   ]
  },
  {
   "cell_type": "code",
   "execution_count": 31,
   "metadata": {},
   "outputs": [
    {
     "ename": "ValueError",
     "evalue": "too many values to unpack (expected 2)",
     "output_type": "error",
     "traceback": [
      "\u001b[0;31m---------------------------------------------------------------------------\u001b[0m",
      "\u001b[0;31mValueError\u001b[0m                                Traceback (most recent call last)",
      "\u001b[0;32m<ipython-input-31-5f79c368da60>\u001b[0m in \u001b[0;36m<module>\u001b[0;34m\u001b[0m\n\u001b[1;32m      1\u001b[0m \u001b[0mm\u001b[0m \u001b[0;34m=\u001b[0m \u001b[0;34m[\u001b[0m\u001b[0;34m[\u001b[0m\u001b[0;36m1\u001b[0m\u001b[0;34m,\u001b[0m\u001b[0;36m2\u001b[0m\u001b[0;34m,\u001b[0m\u001b[0;36m3\u001b[0m\u001b[0;34m]\u001b[0m\u001b[0;34m,\u001b[0m\u001b[0;34m[\u001b[0m\u001b[0;36m4\u001b[0m\u001b[0;34m,\u001b[0m\u001b[0;36m5\u001b[0m\u001b[0;34m,\u001b[0m\u001b[0;36m6\u001b[0m\u001b[0;34m]\u001b[0m\u001b[0;34m,\u001b[0m\u001b[0;34m[\u001b[0m\u001b[0;36m7\u001b[0m\u001b[0;34m,\u001b[0m\u001b[0;36m8\u001b[0m\u001b[0;34m,\u001b[0m\u001b[0;36m9\u001b[0m\u001b[0;34m]\u001b[0m\u001b[0;34m]\u001b[0m\u001b[0;34m\u001b[0m\u001b[0;34m\u001b[0m\u001b[0m\n\u001b[1;32m      2\u001b[0m \u001b[0mq\u001b[0m \u001b[0;34m=\u001b[0m \u001b[0;34m[\u001b[0m\u001b[0;34m]\u001b[0m\u001b[0;34m\u001b[0m\u001b[0;34m\u001b[0m\u001b[0m\n\u001b[0;32m----> 3\u001b[0;31m \u001b[0;32mfor\u001b[0m \u001b[0me\u001b[0m\u001b[0;34m,\u001b[0m\u001b[0mk\u001b[0m \u001b[0;32min\u001b[0m \u001b[0mm\u001b[0m\u001b[0;34m,\u001b[0m\u001b[0me\u001b[0m\u001b[0;34m:\u001b[0m\u001b[0;34m\u001b[0m\u001b[0;34m\u001b[0m\u001b[0m\n\u001b[0m\u001b[1;32m      4\u001b[0m     \u001b[0mq\u001b[0m\u001b[0;34m.\u001b[0m\u001b[0mappend\u001b[0m\u001b[0;34m(\u001b[0m\u001b[0mk\u001b[0m\u001b[0;34m)\u001b[0m\u001b[0;34m\u001b[0m\u001b[0;34m\u001b[0m\u001b[0m\n\u001b[1;32m      5\u001b[0m \u001b[0;34m\u001b[0m\u001b[0m\n",
      "\u001b[0;31mValueError\u001b[0m: too many values to unpack (expected 2)"
     ]
    }
   ],
   "source": [
    "#Esto no funciona\n",
    "m = [[1,2,3],[4,5,6],[7,8,9]]\n",
    "q = []\n",
    "for fila,valor in matriz,fila:\n",
    "    q.append(k)\n",
    "\n",
    "print(q)"
   ]
  },
  {
   "cell_type": "code",
   "execution_count": 33,
   "metadata": {},
   "outputs": [
    {
     "name": "stdout",
     "output_type": "stream",
     "text": [
      "[1, 2, 3, 4, 5, 6, 7, 8, 9]\n"
     ]
    }
   ],
   "source": [
    "#Pero para flat lo mejor es usar comprenhension lists\n",
    "matriz = [[1,2,3],[4,5,6],[7,8,9]]\n",
    "plano = [valor for fila in matriz for valor in fila]\n",
    "print(plano)"
   ]
  },
  {
   "cell_type": "code",
   "execution_count": 36,
   "metadata": {},
   "outputs": [
    {
     "data": {
      "text/plain": [
       "[(1, [1, 2, 3]),\n",
       " (2, [1, 2, 3]),\n",
       " (3, [1, 2, 3]),\n",
       " (4, [4, 5, 6]),\n",
       " (5, [4, 5, 6]),\n",
       " (6, [4, 5, 6]),\n",
       " (7, [7, 8, 9]),\n",
       " (8, [7, 8, 9]),\n",
       " (9, [7, 8, 9])]"
      ]
     },
     "execution_count": 36,
     "metadata": {},
     "output_type": "execute_result"
    }
   ],
   "source": [
    "#Se pueden guardar listas\n",
    "matriz = [[1,2,3],[4,5,6],[7,8,9]]\n",
    "[(valor,fila) for fila in matriz for valor in fila]"
   ]
  },
  {
   "cell_type": "code",
   "execution_count": null,
   "metadata": {},
   "outputs": [],
   "source": [
    "#Dict comprenhension\n",
    "{key:[elem for elem in lista if key in elem] for key in [\"sombrilla\",\"crema\"]}\n",
    "\n",
    "#key = elemento iterable que va a identificar uno de los dos valores del bucle for \"sombrilla\" o \"crema\"\n",
    "#elem = elemento iterable que recorre la lista y filtra dependiendo de si contiene el key(sombrilla o crema)\n",
    "\n",
    "\n",
    "#{e:[m for m in p1 if e in m] for e in [\"sombrilla\",\"playa\"]}"
   ]
  }
 ],
 "metadata": {
  "kernelspec": {
   "display_name": "Python 3",
   "language": "python",
   "name": "python3"
  },
  "language_info": {
   "codemirror_mode": {
    "name": "ipython",
    "version": 3
   },
   "file_extension": ".py",
   "mimetype": "text/x-python",
   "name": "python",
   "nbconvert_exporter": "python",
   "pygments_lexer": "ipython3",
   "version": "3.7.6"
  }
 },
 "nbformat": 4,
 "nbformat_minor": 2
}
