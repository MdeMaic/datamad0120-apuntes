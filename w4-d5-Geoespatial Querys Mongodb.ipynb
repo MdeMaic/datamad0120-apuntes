{
 "cells": [
  {
   "cell_type": "markdown",
   "metadata": {},
   "source": [
    "### Es necesario indexar primero para poder realizar querys geoespaciales\n",
    "\n",
    "## a eso se le llama GEOINDEX.\n",
    "\n",
    "#### Se necesita: type = 'Point', coord = \"longitud\", \"latitud\"  \n",
    "\n",
    "\n",
    "\n",
    "#### Al formato se le llama\n",
    "## GEOJSON."
   ]
  },
  {
   "cell_type": "markdown",
   "metadata": {},
   "source": [
    "El orden es:\n",
    "    [\"longitude\" , \"latitude\"]"
   ]
  },
  {
   "cell_type": "markdown",
   "metadata": {},
   "source": [
    "# GEOCODE.XYZ \n",
    "\n",
    "es un sitio que te convierte una string y te devuelve longitud,latitud.\n",
    "\n",
    "FOWARD GEOCODING."
   ]
  },
  {
   "cell_type": "markdown",
   "metadata": {},
   "source": [
    "---\n",
    "---\n",
    "# EL CAMINO ES:\n",
    "---   \n",
    "    1. Hacer la query de mongoDB o importar el JSON\n",
    "        - La query para llevarse todo, se hace con find({})\n",
    "        \n",
    "    2. Llevárselo a un DATAFRAME y actualizarlo con la información de type, longitud y latitud\n",
    "        - Hacer un explode de los datos office\n",
    "        - Hacer un dataframe.apply(expand)\n",
    "            * Es importante poner doble corchete para que devuelva un DF con 1 columna en vez de una serie\n",
    "            * df[[offices]] vs df[offices]\n",
    "        - Limpiar las columnas que sobran (id y offices)\n",
    "        - Generar la columna location con la función generada.\n",
    "            * importante que guarde location = NONE (null en MongoDB) \n",
    "        - Guardarlo en json\n",
    "        - Importarlo a MONGODB\n",
    "        - Generar el GEOINDEX\n",
    "            \n",
    "    3. Generar otra colección nueva para poder trabajar con MongoDB.\n",
    "   "
   ]
  },
  {
   "cell_type": "markdown",
   "metadata": {},
   "source": [
    "# EXPLODE + EXPAND!"
   ]
  },
  {
   "cell_type": "markdown",
   "metadata": {},
   "source": [
    "# Proyecto\n",
    "API google places --> necesitas darte de alta hasta 300euros gratis.\n",
    "Happy cities...\n",
    "API de forsquare --> Solo para un API.\n",
    "NY, PALO ALTO, CALIFORNIA.\n",
    "\n",
    "Entregar "
   ]
  },
  {
   "cell_type": "code",
   "execution_count": null,
   "metadata": {},
   "outputs": [],
   "source": []
  }
 ],
 "metadata": {
  "kernelspec": {
   "display_name": "Python 3",
   "language": "python",
   "name": "python3"
  },
  "language_info": {
   "codemirror_mode": {
    "name": "ipython",
    "version": 3
   },
   "file_extension": ".py",
   "mimetype": "text/x-python",
   "name": "python",
   "nbconvert_exporter": "python",
   "pygments_lexer": "ipython3",
   "version": "3.7.6"
  }
 },
 "nbformat": 4,
 "nbformat_minor": 2
}
