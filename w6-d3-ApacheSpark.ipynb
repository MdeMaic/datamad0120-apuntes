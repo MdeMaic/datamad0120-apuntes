{
 "cells": [
  {
   "cell_type": "markdown",
   "metadata": {},
   "source": [
    "# APACHE SPARK\n",
    "\n",
    "Cuando antes hacíamos una computación muy larga, si lo hacemos en un df de SPARK en vez de un df de PANDAS. SPARK redistribuye la computación para que sea más rápida.\n",
    "\n",
    "Los ordenadores tienen CORES(CPUs internas), si tiene 4 CORES, APACHE_SPARK te permite utilizar los procesadores para paralelizar la computación. Python sólo lo hace con una de las CPUs por su definición de lenguaje de programación.\n",
    "\n",
    "RDD son dataframes enormes que deben ser tratados fuera de PANDAS por motivos de espacio.\n",
    "\n",
    "EXECUTOR --> Tareas independientes que tiene que realiza spark\n",
    "\n",
    "JOBS --> Agrupación automática de tareas pendientes.\n",
    "\n",
    "\n"
   ]
  },
  {
   "cell_type": "markdown",
   "metadata": {},
   "source": [
    "# INSTALAR APACHE\n",
    "\n",
    "https://github.com/boyander/runpyspark\n",
    "\n",
    "    1. \n",
    "    2. \n",
    "\n",
    "\n",
    "\n",
    "\n",
    "CONFIGURAR SPARK sólo con N-1 CPUs para dejar una CPU para necesidades básicas.\n",
    "\n"
   ]
  },
  {
   "cell_type": "code",
   "execution_count": null,
   "metadata": {},
   "outputs": [],
   "source": [
    "########### Para cortar en 2 un fichero muy pesado con lineas de comando.\n",
    "\n",
    "# $ cat \"file\" | wc-l | head -n x/2"
   ]
  }
 ],
 "metadata": {
  "kernelspec": {
   "display_name": "Python 3",
   "language": "python",
   "name": "python3"
  },
  "language_info": {
   "codemirror_mode": {
    "name": "ipython",
    "version": 3
   },
   "file_extension": ".py",
   "mimetype": "text/x-python",
   "name": "python",
   "nbconvert_exporter": "python",
   "pygments_lexer": "ipython3",
   "version": "3.7.6"
  }
 },
 "nbformat": 4,
 "nbformat_minor": 2
}
