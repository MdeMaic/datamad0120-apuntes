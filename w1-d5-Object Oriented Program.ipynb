{
 "cells": [
  {
   "cell_type": "markdown",
   "metadata": {},
   "source": [
    "# RANDOM"
   ]
  },
  {
   "cell_type": "code",
   "execution_count": 2,
   "metadata": {},
   "outputs": [
    {
     "data": {
      "text/plain": [
       "0.9268678876973209"
      ]
     },
     "execution_count": 2,
     "metadata": {},
     "output_type": "execute_result"
    }
   ],
   "source": [
    "import random\n",
    "\n",
    "#Se genera un número aleatorio entre 0 y 1\n",
    "random.random()"
   ]
  },
  {
   "cell_type": "code",
   "execution_count": 3,
   "metadata": {},
   "outputs": [
    {
     "data": {
      "text/plain": [
       "8"
      ]
     },
     "execution_count": 3,
     "metadata": {},
     "output_type": "execute_result"
    }
   ],
   "source": [
    "#Número aleatorio entre 0 y 100\n",
    "int(random.random()*100)"
   ]
  },
  {
   "cell_type": "code",
   "execution_count": 4,
   "metadata": {},
   "outputs": [],
   "source": [
    "#Para generar una función\n",
    "def generateRandomBetween(a=0,b=100):\n",
    "    return int(random.random()*(b-a))+a"
   ]
  },
  {
   "cell_type": "code",
   "execution_count": 5,
   "metadata": {},
   "outputs": [
    {
     "data": {
      "text/plain": [
       "148"
      ]
     },
     "execution_count": 5,
     "metadata": {},
     "output_type": "execute_result"
    }
   ],
   "source": [
    "generateRandomBetween(50,150)"
   ]
  },
  {
   "cell_type": "code",
   "execution_count": 8,
   "metadata": {},
   "outputs": [
    {
     "data": {
      "text/plain": [
       "[[45, 20, 98, 15, 65, 68, 38, 4, 90, 29],\n",
       " [70, 74, 17, 47, 97, 35, 94, 45, 14, 61],\n",
       " [51, 66, 60, 77, 92, 40, 41, 53, 76, 22],\n",
       " [2, 45, 3, 66, 26, 1, 56, 90, 55, 68]]"
      ]
     },
     "execution_count": 8,
     "metadata": {},
     "output_type": "execute_result"
    }
   ],
   "source": [
    "[[generateRandomBetween(0,100) for e in range(10)]for e in range(4)]"
   ]
  },
  {
   "cell_type": "code",
   "execution_count": 10,
   "metadata": {},
   "outputs": [
    {
     "data": {
      "text/plain": [
       "[3, 5]"
      ]
     },
     "execution_count": 10,
     "metadata": {},
     "output_type": "execute_result"
    }
   ],
   "source": [
    "#Escoger n valores aleatorios de una lista: random.sample(list,n)\n",
    "random.sample([2,3,\"A\",5,\"4\",1,\"HOLA\",5,6,89],2)"
   ]
  },
  {
   "cell_type": "markdown",
   "metadata": {},
   "source": [
    "# OOP"
   ]
  },
  {
   "cell_type": "markdown",
   "metadata": {},
   "source": [
    "Paso por referencia: Actualizar la información de un objeto al ingresarlo en una lista. \n",
    "\n",
    "ESTO FUNCIONA CON TODO MENOS CON LAS VARIABLES.\n",
    "\n",
    "PROGRAMACIÓN FUNCIONAL vs PROGRAMACIÓN ORIENTADA A OBJETOS:\n",
    "\n",
    "Python es multiparadigma. Es decir, Acepta los dos tipos de programación. "
   ]
  },
  {
   "cell_type": "markdown",
   "metadata": {},
   "source": [
    "## Clases"
   ]
  },
  {
   "cell_type": "code",
   "execution_count": null,
   "metadata": {},
   "outputs": [],
   "source": [
    "#Clase: Tipo de objeto: Mando\n",
    "\n",
    "#Instancias: Ejemplo de una clase. m1 y m2.\n",
    "m1 = Mando()\n",
    "m2 = Mando()\n",
    "\n",
    "#Las clases tienen propiedades: Los mandos tienen las propiedades de tener pilas.\n",
    "\n",
    "class Mando:\n",
    "    #Función constructora\n",
    "    def __init__ (self, ...):\n",
    "        self.pilas = {...} #PROPIEDAD 1\n",
    "        self.color = ...   #PROPIEDAD 2\n",
    "        \n",
    "    #MÉTODOS: Función parte de los objetos. Es una función siempre. \n",
    "    #Pero una función es un método sólo si está en un objeto o clase.\n",
    "    def mandoFunciona(self):\n",
    "        for pila...\n",
    "\n",
    "#Diferencias entre objeto y diccionario en la llamada: m2.color vs m2[\"color\"]\n",
    "print(m1.pilas)\n",
    "print(m2.pilas)\n",
    "print(m1.mandoFunciona())\n",
    "#Es muy recomendable no utilizar el print en los objetos."
   ]
  },
  {
   "cell_type": "code",
   "execution_count": null,
   "metadata": {},
   "outputs": [],
   "source": []
  }
 ],
 "metadata": {
  "kernelspec": {
   "display_name": "Python 3",
   "language": "python",
   "name": "python3"
  },
  "language_info": {
   "codemirror_mode": {
    "name": "ipython",
    "version": 3
   },
   "file_extension": ".py",
   "mimetype": "text/x-python",
   "name": "python",
   "nbconvert_exporter": "python",
   "pygments_lexer": "ipython3",
   "version": "3.7.6"
  }
 },
 "nbformat": 4,
 "nbformat_minor": 2
}
