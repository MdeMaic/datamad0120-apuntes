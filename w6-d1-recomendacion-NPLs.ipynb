{
 "cells": [
  {
   "cell_type": "markdown",
   "metadata": {},
   "source": [
    "## DISTANCIAS\n",
    "\n",
    "Distancia Euclidea: Cuenta la distancia de los cuadrados de los catetos en las N dimensiones. \n",
    "\n",
    "Dimensiones = películas.\n",
    "\n",
    "Usando el cuadrado obtenemos la matriz de recomendaciones. \n",
    "\n",
    "La distancia del coseno sirve para comparar 2 palabras entre NPLs (Procesado de Lenuaje Natural). para ver si:\n",
    "    - 0 grados --> Existe relación directa.\n",
    "    - 90 grados --> Se trata de textos opuestos.\n",
    "\n",
    "Lo bueno de las distancias y las métricas es que se pueden utilizar redes neuronales. AUTOENCODED para INSTAGRAM.\n",
    "\n",
    "---\n",
    "\n",
    "Otros servicios de apache spark, hadooop, tensorflow....\n",
    "\n",
    "### Kubernetes.\n",
    "- Sirve para schedulizar y reordenar la actividad de tus ordenadores en caso de caidas.\n",
    "- Compra automática de ordenadores cuando el tráfico se sobrecarga"
   ]
  },
  {
   "cell_type": "code",
   "execution_count": null,
   "metadata": {},
   "outputs": [],
   "source": []
  }
 ],
 "metadata": {
  "kernelspec": {
   "display_name": "Python 3",
   "language": "python",
   "name": "python3"
  },
  "language_info": {
   "codemirror_mode": {
    "name": "ipython",
    "version": 3
   },
   "file_extension": ".py",
   "mimetype": "text/x-python",
   "name": "python",
   "nbconvert_exporter": "python",
   "pygments_lexer": "ipython3",
   "version": "3.7.6"
  }
 },
 "nbformat": 4,
 "nbformat_minor": 2
}
