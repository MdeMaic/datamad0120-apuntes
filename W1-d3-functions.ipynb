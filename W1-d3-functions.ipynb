{
 "cells": [
  {
   "cell_type": "code",
   "execution_count": 2,
   "metadata": {},
   "outputs": [
    {
     "data": {
      "text/plain": [
       "9"
      ]
     },
     "execution_count": 2,
     "metadata": {},
     "output_type": "execute_result"
    }
   ],
   "source": [
    "def suma(a,b):\n",
    "    return a+b\n",
    "\n",
    "suma(4,5)"
   ]
  },
  {
   "cell_type": "code",
   "execution_count": 3,
   "metadata": {},
   "outputs": [
    {
     "data": {
      "text/plain": [
       "20"
      ]
     },
     "execution_count": 3,
     "metadata": {},
     "output_type": "execute_result"
    }
   ],
   "source": [
    "suma (3,4)\n",
    "suma(10,10)"
   ]
  },
  {
   "cell_type": "code",
   "execution_count": 6,
   "metadata": {},
   "outputs": [
    {
     "name": "stdout",
     "output_type": "stream",
     "text": [
      "Hola Pepe\n",
      "Hello Pepe\n",
      "Hello Pepe\n",
      "Hello Pepe\n"
     ]
    }
   ],
   "source": [
    "def saluda(nombre, idioma =\"es\"):\n",
    "    if idioma == \"es\":\n",
    "        return \"Hola \"+nombre\n",
    "    elif idioma == \"en\":\n",
    "        return \"Hello \"+nombre\n",
    "\n",
    "a = saluda(\"Pepe\")\n",
    "b = saluda(\"Pepe\",\"en\") #ARGUMENTOS POSICIONALES\n",
    "\n",
    "c = saluda(nombre = \"Pepe\", idioma = \"en\") #ARGUMENTOS DE PALABRA CLAVE\n",
    "d = saluda(idioma = \"en\", nombre = \"Pepe\")\n",
    "\n",
    "todos = (a,b,c,d)\n",
    "\n",
    "for i in todos:\n",
    "    print(i)"
   ]
  },
  {
   "cell_type": "code",
   "execution_count": 8,
   "metadata": {},
   "outputs": [
    {
     "name": "stdout",
     "output_type": "stream",
     "text": [
      "Hola Pepe\n",
      "Hola Juan\n",
      "Hola Miguel\n"
     ]
    }
   ],
   "source": [
    "nombres = [\"Pepe\", \"Juan\", \"Miguel\"]\n",
    "\n",
    "def saludaVarios (lst,idioma=\"es\"):\n",
    "    for nombre in lst:\n",
    "        print(saluda(nombre,idioma))\n",
    "        \n",
    "saludaVarios(nombres)"
   ]
  },
  {
   "cell_type": "code",
   "execution_count": 10,
   "metadata": {},
   "outputs": [
    {
     "name": "stdout",
     "output_type": "stream",
     "text": [
      "Hello Pepe\n",
      "Hello Juan\n",
      "Hello Miguel\n"
     ]
    }
   ],
   "source": [
    "saludaVarios(nombres,\"en\")"
   ]
  },
  {
   "cell_type": "code",
   "execution_count": 11,
   "metadata": {},
   "outputs": [
    {
     "ename": "TypeError",
     "evalue": "saludaVarios() takes from 1 to 2 positional arguments but 3 were given",
     "output_type": "error",
     "traceback": [
      "\u001b[0;31m---------------------------------------------------------------------------\u001b[0m",
      "\u001b[0;31mTypeError\u001b[0m                                 Traceback (most recent call last)",
      "\u001b[0;32m<ipython-input-11-a7429b63a008>\u001b[0m in \u001b[0;36m<module>\u001b[0;34m\u001b[0m\n\u001b[0;32m----> 1\u001b[0;31m \u001b[0msaludaVarios\u001b[0m\u001b[0;34m(\u001b[0m\u001b[0;34m\"Juan\"\u001b[0m\u001b[0;34m,\u001b[0m\u001b[0;34m\"Pepe\"\u001b[0m\u001b[0;34m,\u001b[0m\u001b[0;34m\"Miguel\"\u001b[0m\u001b[0;34m)\u001b[0m\u001b[0;34m\u001b[0m\u001b[0;34m\u001b[0m\u001b[0m\n\u001b[0m",
      "\u001b[0;31mTypeError\u001b[0m: saludaVarios() takes from 1 to 2 positional arguments but 3 were given"
     ]
    }
   ],
   "source": [
    "saludaVarios(\"Juan\",\"Pepe\",\"Miguel\")\n",
    "#Se espera un error porque se está cogiendo más argumentos de los definidos"
   ]
  },
  {
   "cell_type": "code",
   "execution_count": 12,
   "metadata": {},
   "outputs": [
    {
     "name": "stdout",
     "output_type": "stream",
     "text": [
      "None\n",
      "None\n",
      "None\n",
      "None\n"
     ]
    }
   ],
   "source": [
    "saludaVarios(\"Juan\",\"Pepe\")\n",
    "#Se imprimen 4 nones porque pepe no es una opción para el idioma y se itera \"Juan\" 4 veces por el número de letas"
   ]
  },
  {
   "cell_type": "code",
   "execution_count": 14,
   "metadata": {},
   "outputs": [
    {
     "name": "stdout",
     "output_type": "stream",
     "text": [
      "('Miguel', 'Juan', 'Lucía')\n",
      "Hola Miguel\n",
      "Hola Juan\n",
      "Hola Lucía\n"
     ]
    }
   ],
   "source": [
    "#Si quiero que se muestren todos los valores, puedo modificar la función con el *nombres para que \n",
    "#genere una TUPLA de los argumentos\n",
    "\n",
    "def saludaVarios (*nombres,idioma=\"es\"):\n",
    "    print (nombres)\n",
    "    for nombre in nombres:\n",
    "        print(saluda(nombre,idioma))\n",
    "\n",
    "saludaVarios(\"Miguel\",\"Juan\",\"Lucía\")"
   ]
  },
  {
   "cell_type": "code",
   "execution_count": 15,
   "metadata": {},
   "outputs": [
    {
     "name": "stdout",
     "output_type": "stream",
     "text": [
      "('Miguel', 'Juan', 'Lucía', 'en')\n",
      "Hola Miguel\n",
      "Hola Juan\n",
      "Hola Lucía\n",
      "Hola en\n"
     ]
    }
   ],
   "source": [
    "saludaVarios(\"Miguel\",\"Juan\",\"Lucía\",\"en\")"
   ]
  },
  {
   "cell_type": "code",
   "execution_count": 16,
   "metadata": {},
   "outputs": [
    {
     "name": "stdout",
     "output_type": "stream",
     "text": [
      "('Miguel', 'Juan', 'Lucía')\n",
      "Hello Miguel\n",
      "Hello Juan\n",
      "Hello Lucía\n"
     ]
    }
   ],
   "source": [
    "saludaVarios(\"Miguel\",\"Juan\",\"Lucía\",idioma = \"en\") #Necesita de una KEYWORD ARGUMENT"
   ]
  },
  {
   "cell_type": "code",
   "execution_count": 17,
   "metadata": {},
   "outputs": [
    {
     "name": "stdout",
     "output_type": "stream",
     "text": [
      "('Pepe', 'Juan', 'Miguel')\n",
      "Hola Pepe\n",
      "Hola Juan\n",
      "Hola Miguel\n"
     ]
    }
   ],
   "source": [
    "# Posicional en una tupla cuando está dentro de la función \n",
    "\n",
    "\n",
    "#y un iterable en un posicional cuando se encuentra fuera.\n",
    "saludaVarios(*nombres)\n"
   ]
  },
  {
   "cell_type": "code",
   "execution_count": 19,
   "metadata": {},
   "outputs": [
    {
     "name": "stdout",
     "output_type": "stream",
     "text": [
      "('a', 'b', 'c', 5)\n",
      "{'x': 5}\n"
     ]
    }
   ],
   "source": [
    "#2 estrellas en un diccionario entra en el KEYWORDS ARGUMENTS (VALUE)\n",
    "\n",
    "# *args --> Argumentos posicionales\n",
    "# **kwargs --> Argumentos keywords\n",
    "\n",
    "def fn(*args,**kwargs):\n",
    "    print(args)\n",
    "    print(kwargs)\n",
    "\n",
    "fn(\"a\",\"b\",\"c\",5,x=5)"
   ]
  },
  {
   "cell_type": "code",
   "execution_count": 20,
   "metadata": {},
   "outputs": [
    {
     "ename": "SyntaxError",
     "evalue": "positional argument follows keyword argument (<ipython-input-20-68cbb4d052f0>, line 1)",
     "output_type": "error",
     "traceback": [
      "\u001b[0;36m  File \u001b[0;32m\"<ipython-input-20-68cbb4d052f0>\"\u001b[0;36m, line \u001b[0;32m1\u001b[0m\n\u001b[0;31m    fn(a=5,45,5,1,z=9)\u001b[0m\n\u001b[0m          ^\u001b[0m\n\u001b[0;31mSyntaxError\u001b[0m\u001b[0;31m:\u001b[0m positional argument follows keyword argument\n"
     ]
    }
   ],
   "source": [
    "fn(a=5,45,5,1,z=9)"
   ]
  },
  {
   "cell_type": "code",
   "execution_count": 25,
   "metadata": {},
   "outputs": [
    {
     "data": {
      "text/plain": [
       "1"
      ]
     },
     "execution_count": 25,
     "metadata": {},
     "output_type": "execute_result"
    }
   ],
   "source": [
    "#Funiciones generadoras. Se quedan en standby con YIELD hasta que necesites otra iteración \n",
    "\n",
    "def cuenta5():\n",
    "    for i in range(5):\n",
    "        yield i\n",
    "        \n",
    "g = cuenta5()\n",
    "g.__next__() #Muestra de salida 0\n",
    "g.__next__() #Muestra de salida 1 ...\n",
    "    "
   ]
  },
  {
   "cell_type": "code",
   "execution_count": 23,
   "metadata": {},
   "outputs": [
    {
     "name": "stdout",
     "output_type": "stream",
     "text": [
      "0\n",
      "1\n",
      "2\n",
      "3\n",
      "4\n"
     ]
    }
   ],
   "source": [
    "for e in cuenta5():\n",
    "    print(e)"
   ]
  },
  {
   "cell_type": "code",
   "execution_count": 26,
   "metadata": {},
   "outputs": [
    {
     "data": {
      "text/plain": [
       "[0, 1, 2, 3, 4]"
      ]
     },
     "execution_count": 26,
     "metadata": {},
     "output_type": "execute_result"
    }
   ],
   "source": [
    "list(cuenta5())"
   ]
  },
  {
   "cell_type": "code",
   "execution_count": null,
   "metadata": {},
   "outputs": [],
   "source": [
    "# Funciones deterministas VS no deterministas\n",
    "# Funciones puras VS impuras"
   ]
  }
 ],
 "metadata": {
  "kernelspec": {
   "display_name": "Python 3",
   "language": "python",
   "name": "python3"
  },
  "language_info": {
   "codemirror_mode": {
    "name": "ipython",
    "version": 3
   },
   "file_extension": ".py",
   "mimetype": "text/x-python",
   "name": "python",
   "nbconvert_exporter": "python",
   "pygments_lexer": "ipython3",
   "version": "3.7.6"
  }
 },
 "nbformat": 4,
 "nbformat_minor": 2
}
