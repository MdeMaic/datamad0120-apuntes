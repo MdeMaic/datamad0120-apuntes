{
 "cells": [
  {
   "cell_type": "markdown",
   "metadata": {},
   "source": [
    "# Flask.\n",
    "---\n",
    "\n",
    "Tenemos un archivo app.py (code) donde tenemos los decordadores y el run de app.run para conectar a FLASK.\n",
    "\n",
    "\n",
    "### Conexión por navegador en local\n",
    "Se puede conectar al navegador pulsando en la url de localhost 5000\n",
    "\n",
    "\n",
    "### Llamada en la terminal al localhost 5000 generando el JSON.\n",
    "\n",
    "`$ curl localhost:5000`\n",
    "\n",
    "`$ curl localhost:5000\\ta`\n",
    "\n",
    "`$ curl localhost:5000\\ta\\felipe`\n",
    "\n",
    " ---\n"
   ]
  },
  {
   "cell_type": "markdown",
   "metadata": {},
   "source": [
    "## Debug = True, hace que se reinicie la sesión cada vez que se modifica el archivo.\n",
    "Ponerlo siempre.\n",
    "\n",
    "#### Hay que reiniciarlo cuando encuentra un error de programación.\n",
    "---\n"
   ]
  },
  {
   "cell_type": "markdown",
   "metadata": {},
   "source": [
    "## ERROR HANDLER!\n",
    "\n",
    "#### En el jsonErrorHandler(fn)\n",
    " \n",
    " return data,404\n",
    " \n",
    " se devuelve una tupla en el que el 404 es el tipo error que hemos establecido se ha generado...\n",
    "\n",
    "---"
   ]
  },
  {
   "cell_type": "markdown",
   "metadata": {},
   "source": [
    "# REDIRECT\n",
    "Sirven para meter una string en un JSON que redirige a una URL (Así funciónan los acortadores de URLs)\n",
    "\n",
    "---"
   ]
  },
  {
   "cell_type": "markdown",
   "metadata": {},
   "source": [
    "### Para crear un autoordenado en visual studio code:\n",
    "1. carpeta .vscode\n",
    "2. dentro archivo settings.json\n",
    "3. dentro un setting específico (copiar)"
   ]
  },
  {
   "cell_type": "code",
   "execution_count": null,
   "metadata": {},
   "outputs": [],
   "source": [
    "import requests\n",
    "\n",
    "requests.get(\"http://localhost:5000/.../..\").json()"
   ]
  }
 ],
 "metadata": {
  "kernelspec": {
   "display_name": "Python 3",
   "language": "python",
   "name": "python3"
  },
  "language_info": {
   "codemirror_mode": {
    "name": "ipython",
    "version": 3
   },
   "file_extension": ".py",
   "mimetype": "text/x-python",
   "name": "python",
   "nbconvert_exporter": "python",
   "pygments_lexer": "ipython3",
   "version": "3.7.6"
  }
 },
 "nbformat": 4,
 "nbformat_minor": 2
}
